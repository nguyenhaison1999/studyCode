{
 "cells": [
  {
   "cell_type": "code",
   "execution_count": 1,
   "metadata": {
    "colab": {
     "base_uri": "https://localhost:8080/",
     "height": 199
    },
    "colab_type": "code",
    "executionInfo": {
     "elapsed": 2345,
     "status": "ok",
     "timestamp": 1594991676003,
     "user": {
      "displayName": "An Nguyễn Thành",
      "photoUrl": "https://lh3.googleusercontent.com/a-/AOh14Gi3alYh4OSEJHfyQwhWC1qbd0uoheY4vIquSI-7Ag=s64",
      "userId": "06733611371555850444"
     },
     "user_tz": -420
    },
    "id": "YQSK7DnKUeu8",
    "outputId": "d75128f3-5eda-4426-f709-5090ee8aecd2"
   },
   "outputs": [
    {
     "name": "stdout",
     "output_type": "stream",
     "text": [
      "[ 0.  1.  2.  3.  4.  5.  6.  7.  8.  9. 10. 11. 12. 13. 14. 15. 16. 17.\n",
      " 18. 19.]\n",
      "[13.27884658 12.49074182 15.90338416 20.78979147 18.31063409 23.88851432\n",
      " 22.28217405 25.2524956  30.36433764 31.27992402 31.61522325 36.10299073\n",
      " 37.52597155 38.544584   41.44918415 40.59382844 43.26407517 48.97985507\n",
      " 46.34485809 50.56290335]\n",
      "[3.27884658 0.49074182 1.90338416 4.78979147 0.31063409 3.88851432\n",
      " 0.28217405 1.2524956  4.36433764 3.27992402 1.61522325 4.10299073\n",
      " 3.52597155 2.544584   3.44918415 0.59382844 1.26407517 4.97985507\n",
      " 0.34485809 2.56290335]\n"
     ]
    }
   ],
   "source": [
    "import numpy as np\n",
    "x = np.arange(20, dtype=np.float)\n",
    "y = 2*x + 10\n",
    "noise = np.random.rand(20) * 5\n",
    "y = y + noise\n",
    "print(x)\n",
    "print(y)\n",
    "print(noise)"
   ]
  },
  {
   "cell_type": "code",
   "execution_count": 2,
   "metadata": {
    "colab": {
     "base_uri": "https://localhost:8080/",
     "height": 265
    },
    "colab_type": "code",
    "executionInfo": {
     "elapsed": 2329,
     "status": "ok",
     "timestamp": 1594991676005,
     "user": {
      "displayName": "An Nguyễn Thành",
      "photoUrl": "https://lh3.googleusercontent.com/a-/AOh14Gi3alYh4OSEJHfyQwhWC1qbd0uoheY4vIquSI-7Ag=s64",
      "userId": "06733611371555850444"
     },
     "user_tz": -420
    },
    "id": "syA3h6ziVYzB",
    "outputId": "07e6d073-3a59-4316-f7eb-674cd75f762a"
   },
   "outputs": [
    {
     "data": {
      "image/png": "[encoded data removed]",
      "text/plain": [
       "<Figure size 432x288 with 1 Axes>"
      ]
     },
     "metadata": {
      "needs_background": "light",
      "tags": []
     },
     "output_type": "display_data"
    }
   ],
   "source": [
    "from matplotlib import pyplot as plt\n",
    "\n",
    "plt.scatter(x, y)\n",
    "plt.show()"
   ]
  },
  {
   "cell_type": "code",
   "execution_count": 3,
   "metadata": {
    "colab": {
     "base_uri": "https://localhost:8080/",
     "height": 35
    },
    "colab_type": "code",
    "executionInfo": {
     "elapsed": 2317,
     "status": "ok",
     "timestamp": 1594991676006,
     "user": {
      "displayName": "An Nguyễn Thành",
      "photoUrl": "https://lh3.googleusercontent.com/a-/AOh14Gi3alYh4OSEJHfyQwhWC1qbd0uoheY4vIquSI-7Ag=s64",
      "userId": "06733611371555850444"
     },
     "user_tz": -420
    },
    "id": "byowI-YqWGSA",
    "outputId": "17d2df1e-6383-425f-a1b8-9e5f48183851"
   },
   "outputs": [
    {
     "name": "stdout",
     "output_type": "stream",
     "text": [
      "12.383026726475485 [2.00612517]\n"
     ]
    }
   ],
   "source": [
    "from sklearn.linear_model import LinearRegression\n",
    "model = LinearRegression()\n",
    "model.fit(x.reshape([-1, 1]), y)\n",
    "print(model.intercept_, model.coef_)"
   ]
  },
  {
   "cell_type": "code",
   "execution_count": 4,
   "metadata": {
    "colab": {
     "base_uri": "https://localhost:8080/",
     "height": 265
    },
    "colab_type": "code",
    "executionInfo": {
     "elapsed": 2677,
     "status": "ok",
     "timestamp": 1594991676383,
     "user": {
      "displayName": "An Nguyễn Thành",
      "photoUrl": "https://lh3.googleusercontent.com/a-/AOh14Gi3alYh4OSEJHfyQwhWC1qbd0uoheY4vIquSI-7Ag=s64",
      "userId": "06733611371555850444"
     },
     "user_tz": -420
    },
    "id": "MLTZWRZxWodl",
    "outputId": "82f16837-5436-43f9-9bdf-e28264c951d0"
   },
   "outputs": [
    {
     "data": {
      "image/png": "[encoded data removed]",
      "text/plain": [
       "<Figure size 432x288 with 1 Axes>"
      ]
     },
     "metadata": {
      "needs_background": "light",
      "tags": []
     },
     "output_type": "display_data"
    }
   ],
   "source": [
    "plt.scatter(x, y)\n",
    "plt.plot(x, x*model.coef_[0]+model.intercept_, 'r')\n",
    "plt.show()"
   ]
  }
 ],
 "metadata": {
  "colab": {
   "authorship_tag": "ABX9TyOcSd+cwFUeOBZDDiqxdmwO",
   "collapsed_sections": [],
   "name": "LinearRegression.ipynb",
   "provenance": []
  },
  "kernelspec": {
   "display_name": "Python 3",
   "language": "python",
   "name": "python3"
  },
  "language_info": {
   "codemirror_mode": {
    "name": "ipython",
    "version": 3
   },
   "file_extension": ".py",
   "mimetype": "text/x-python",
   "name": "python",
   "nbconvert_exporter": "python",
   "pygments_lexer": "ipython3",
   "version": "3.7.6"
  }
 },
 "nbformat": 4,
 "nbformat_minor": 1
}
