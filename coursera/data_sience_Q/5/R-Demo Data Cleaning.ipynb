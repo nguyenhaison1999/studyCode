{
 "cells": [
  {
   "cell_type": "code",
   "execution_count": 1,
   "metadata": {},
   "outputs": [],
   "source": [
    "import numpy as np\n",
    "import pandas as pd"
   ]
  },
  {
   "cell_type": "markdown",
   "metadata": {},
   "source": [
    "### Thay thế dữ liệu: Dùng df.replace(giá_trị_cũ, giá_trị_mới)\n"
   ]
  },
  {
   "cell_type": "code",
   "execution_count": 2,
   "metadata": {},
   "outputs": [
    {
     "name": "stdout",
     "output_type": "stream",
     "text": [
      "(10, 2) <class 'pandas.core.frame.DataFrame'>\n"
     ]
    }
   ],
   "source": [
    "# Đọc dữ liệu excel\n",
    "df3 = pd.read_excel('data\\du_lieu_1.xlsx', header=None)\n",
    "print(df3.shape, type(df3))\n"
   ]
  },
  {
   "cell_type": "code",
   "execution_count": 3,
   "metadata": {},
   "outputs": [
    {
     "name": "stdout",
     "output_type": "stream",
     "text": [
      "             0           1\n",
      "0    -0.349596    -2.01720\n",
      "1  9999.000000  9999.00000\n",
      "2  9999.000000  9999.00000\n",
      "3     0.113800     0.61610\n",
      "4     0.014700    -1.73166\n",
      "5  9999.000000  9999.00000\n",
      "6     1.233080     0.72010\n",
      "7  9999.000000  9999.00000\n",
      "8  9999.000000  9999.00000\n",
      "9  9999.000000  9999.00000\n"
     ]
    }
   ],
   "source": [
    "print(df3)"
   ]
  },
  {
   "cell_type": "code",
   "execution_count": 4,
   "metadata": {},
   "outputs": [],
   "source": [
    "# thay the gia tri 9999.0 bang 0\n",
    "df3 = df3.replace(9999.0, 0)"
   ]
  },
  {
   "cell_type": "code",
   "execution_count": 5,
   "metadata": {},
   "outputs": [
    {
     "name": "stdout",
     "output_type": "stream",
     "text": [
      "          0        1\n",
      "0 -0.349596 -2.01720\n",
      "1  0.000000  0.00000\n",
      "2  0.000000  0.00000\n",
      "3  0.113800  0.61610\n",
      "4  0.014700 -1.73166\n",
      "5  0.000000  0.00000\n",
      "6  1.233080  0.72010\n",
      "7  0.000000  0.00000\n",
      "8  0.000000  0.00000\n",
      "9  0.000000  0.00000\n"
     ]
    }
   ],
   "source": [
    "print(df3)"
   ]
  },
  {
   "cell_type": "markdown",
   "metadata": {},
   "source": [
    "### Thay thế dữ liệu: \n",
    "#### Điền bằng dữ liệu phía trên hoặc phía dưới cho những giá trị NaN: dùng \n",
    "* df.fillna(method=‘ffill’) hoặc \n",
    "* df.fillna(method=‘backfill’) \n"
   ]
  },
  {
   "cell_type": "code",
   "execution_count": 6,
   "metadata": {},
   "outputs": [
    {
     "name": "stdout",
     "output_type": "stream",
     "text": [
      "(7, 2) <class 'pandas.core.frame.DataFrame'>\n"
     ]
    }
   ],
   "source": [
    "df4 = pd.read_excel('data\\du_lieu_2.xlsx', header=None)\n",
    "print(df4.shape, type(df4))"
   ]
  },
  {
   "cell_type": "code",
   "execution_count": 7,
   "metadata": {},
   "outputs": [
    {
     "name": "stdout",
     "output_type": "stream",
     "text": [
      "          0       1\n",
      "0 -0.349596 -2.0172\n",
      "1       NaN     NaN\n",
      "2  1.578300  0.6374\n",
      "3       NaN     NaN\n",
      "4       NaN     NaN\n",
      "5       NaN     NaN\n",
      "6 -1.145700  0.0529\n"
     ]
    }
   ],
   "source": [
    "print(df4)"
   ]
  },
  {
   "cell_type": "code",
   "execution_count": 8,
   "metadata": {},
   "outputs": [
    {
     "name": "stdout",
     "output_type": "stream",
     "text": [
      "          0       1\n",
      "0 -0.349596 -2.0172\n",
      "1 -0.349596 -2.0172\n",
      "2  1.578300  0.6374\n",
      "3  1.578300  0.6374\n",
      "4  1.578300  0.6374\n",
      "5  1.578300  0.6374\n",
      "6 -1.145700  0.0529\n"
     ]
    }
   ],
   "source": [
    "# dien gia tri tren\n",
    "df5 = df4.fillna(method='ffill')\n",
    "print(df5)"
   ]
  },
  {
   "cell_type": "code",
   "execution_count": 9,
   "metadata": {},
   "outputs": [
    {
     "name": "stdout",
     "output_type": "stream",
     "text": [
      "          0       1\n",
      "0 -0.349596 -2.0172\n",
      "1  1.578300  0.6374\n",
      "2  1.578300  0.6374\n",
      "3 -1.145700  0.0529\n",
      "4 -1.145700  0.0529\n",
      "5 -1.145700  0.0529\n",
      "6 -1.145700  0.0529\n"
     ]
    }
   ],
   "source": [
    "# dien gia tri duoi\n",
    "df6 = df4.fillna(method='backfill')\n",
    "print(df6)"
   ]
  },
  {
   "cell_type": "markdown",
   "metadata": {},
   "source": [
    "### Xóa bỏ dòng dữ liệu có chứa NaN: dùng df.dropna(axis=0 hoặc 1)\n"
   ]
  },
  {
   "cell_type": "code",
   "execution_count": 10,
   "metadata": {},
   "outputs": [
    {
     "name": "stdout",
     "output_type": "stream",
     "text": [
      "(9, 3) <class 'pandas.core.frame.DataFrame'>\n"
     ]
    }
   ],
   "source": [
    "df7 = pd.read_excel('data\\du_lieu_3.xlsx', header=None)\n",
    "print(df7.shape, type(df7))"
   ]
  },
  {
   "cell_type": "code",
   "execution_count": 11,
   "metadata": {},
   "outputs": [
    {
     "name": "stdout",
     "output_type": "stream",
     "text": [
      "          0        1        2\n",
      "0 -0.349596 -2.01720 -0.33450\n",
      "1       NaN      NaN  0.06800\n",
      "2  1.578300  0.63740  0.07521\n",
      "3       NaN      NaN -0.25890\n",
      "4       NaN      NaN  0.56550\n",
      "5       NaN      NaN -2.28520\n",
      "6 -1.145700  0.05290 -1.85410\n",
      "7  0.770500  0.08500 -0.68540\n",
      "8  0.097600  0.13705  1.25890\n"
     ]
    }
   ],
   "source": [
    "print(df7)"
   ]
  },
  {
   "cell_type": "code",
   "execution_count": 12,
   "metadata": {},
   "outputs": [
    {
     "name": "stdout",
     "output_type": "stream",
     "text": [
      "          0        1        2\n",
      "0 -0.349596 -2.01720 -0.33450\n",
      "2  1.578300  0.63740  0.07521\n",
      "6 -1.145700  0.05290 -1.85410\n",
      "7  0.770500  0.08500 -0.68540\n",
      "8  0.097600  0.13705  1.25890\n"
     ]
    }
   ],
   "source": [
    "# xoa dong du lieu co NaN\n",
    "df8 = df7.dropna(axis = 0)\n",
    "print(df8)"
   ]
  },
  {
   "cell_type": "code",
   "execution_count": 13,
   "metadata": {},
   "outputs": [
    {
     "name": "stdout",
     "output_type": "stream",
     "text": [
      "         2\n",
      "0 -0.33450\n",
      "1  0.06800\n",
      "2  0.07521\n",
      "3 -0.25890\n",
      "4  0.56550\n",
      "5 -2.28520\n",
      "6 -1.85410\n",
      "7 -0.68540\n",
      "8  1.25890\n"
     ]
    }
   ],
   "source": [
    "# xoa cot du lieu co NaN\n",
    "df9 = df7.dropna(axis = 1)\n",
    "print(df9)"
   ]
  },
  {
   "cell_type": "markdown",
   "metadata": {},
   "source": [
    "### Thực hiện nội suy tuyến tính: dùng df.interpolate()\n"
   ]
  },
  {
   "cell_type": "code",
   "execution_count": 14,
   "metadata": {},
   "outputs": [],
   "source": [
    "df_i = pd.DataFrame([(1.0, 2.0,  2.0),\n",
    "                   (2.0, 3.0,  np.nan),\n",
    "                   (3.0, np.nan,  4.0),\n",
    "                   (np.nan, 4.0,  6.0)],\n",
    "                  columns=['a','b','c'])"
   ]
  },
  {
   "cell_type": "code",
   "execution_count": 15,
   "metadata": {},
   "outputs": [
    {
     "name": "stdout",
     "output_type": "stream",
     "text": [
      "     a    b    c\n",
      "0  1.0  2.0  2.0\n",
      "1  2.0  3.0  NaN\n",
      "2  3.0  NaN  4.0\n",
      "3  NaN  4.0  6.0\n"
     ]
    },
    {
     "data": {
      "text/plain": [
       "<matplotlib.axes._subplots.AxesSubplot at 0x1b02e694348>"
      ]
     },
     "execution_count": 15,
     "metadata": {},
     "output_type": "execute_result"
    },
    {
     "data": {
      "image/png": "[encoded data removed]",
      "text/plain": [
       "<Figure size 432x288 with 1 Axes>"
      ]
     },
     "metadata": {
      "needs_background": "light"
     },
     "output_type": "display_data"
    }
   ],
   "source": [
    "print(df_i)\n",
    "df_i.plot()"
   ]
  },
  {
   "cell_type": "code",
   "execution_count": 16,
   "metadata": {},
   "outputs": [
    {
     "name": "stdout",
     "output_type": "stream",
     "text": [
      "     a    b    c\n",
      "0  1.0  2.0  2.0\n",
      "1  2.0  3.0  3.0\n",
      "2  3.0  3.5  4.0\n",
      "3  3.0  4.0  6.0\n"
     ]
    },
    {
     "data": {
      "image/png": "[encoded data removed]",
      "text/plain": [
       "<Figure size 432x288 with 1 Axes>"
      ]
     },
     "metadata": {
      "needs_background": "light"
     },
     "output_type": "display_data"
    }
   ],
   "source": [
    "\n",
    "df_i.interpolate().plot()\n",
    "print(df_i.interpolate())"
   ]
  },
  {
   "cell_type": "code",
   "execution_count": null,
   "metadata": {},
   "outputs": [],
   "source": []
  }
 ],
 "metadata": {
  "kernelspec": {
   "display_name": "Python 3",
   "language": "python",
   "name": "python3"
  },
  "language_info": {
   "codemirror_mode": {
    "name": "ipython",
    "version": 3
   },
   "file_extension": ".py",
   "mimetype": "text/x-python",
   "name": "python",
   "nbconvert_exporter": "python",
   "pygments_lexer": "ipython3",
   "version": "3.6.8"
  }
 },
 "nbformat": 4,
 "nbformat_minor": 2
}
