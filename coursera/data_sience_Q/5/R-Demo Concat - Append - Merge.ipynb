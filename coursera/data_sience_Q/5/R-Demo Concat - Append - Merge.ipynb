{
 "cells": [
  {
   "cell_type": "code",
   "execution_count": 1,
   "metadata": {},
   "outputs": [],
   "source": [
    "import numpy as np\n",
    "import pandas as pd"
   ]
  },
  {
   "cell_type": "markdown",
   "metadata": {},
   "source": [
    "## Concat"
   ]
  },
  {
   "cell_type": "code",
   "execution_count": 2,
   "metadata": {},
   "outputs": [
    {
     "name": "stdout",
     "output_type": "stream",
     "text": [
      "      Name  Age\n",
      "NV1     An   15\n",
      "NV2    Hoa   22\n",
      "NV3  Trung   36\n",
      "NV4    Huy   27\n",
      "        Name  Age Address\n",
      "NV11   Thanh   26     HCM\n",
      "NV12  Chuyen   47      HN\n"
     ]
    }
   ],
   "source": [
    "df1=pd.DataFrame({'Name' : pd.Series(['An', 'Hoa', 'Trung','Huy'],index=['NV1','NV2','NV3','NV4']),\n",
    "      'Age' : pd.Series([15, 22, 36,27],index=['NV1','NV2','NV3','NV4'])\n",
    "         })\n",
    "df2 = pd.DataFrame({'Name' : pd.Series(['Thanh','Chuyen'], index=['NV11','NV12']),\n",
    "      'Age' : pd.Series([26,47],index=['NV11','NV12']),\n",
    "      'Address':pd.Series(['HCM','HN'],index=['NV11','NV12']) \n",
    "         })\n",
    "print(df1)\n",
    "\n",
    "print(df2)\n"
   ]
  },
  {
   "cell_type": "code",
   "execution_count": 3,
   "metadata": {},
   "outputs": [
    {
     "name": "stdout",
     "output_type": "stream",
     "text": [
      "        Name  Age Address\n",
      "NV1       An   15     NaN\n",
      "NV2      Hoa   22     NaN\n",
      "NV3    Trung   36     NaN\n",
      "NV4      Huy   27     NaN\n",
      "NV11   Thanh   26     HCM\n",
      "NV12  Chuyen   47      HN\n",
      "     Name  Age Address\n",
      "0      An   15     NaN\n",
      "1     Hoa   22     NaN\n",
      "2   Trung   36     NaN\n",
      "3     Huy   27     NaN\n",
      "4   Thanh   26     HCM\n",
      "5  Chuyen   47      HN\n",
      "       Name   Age    Name   Age Address\n",
      "NV1      An  15.0     NaN   NaN     NaN\n",
      "NV2     Hoa  22.0     NaN   NaN     NaN\n",
      "NV3   Trung  36.0     NaN   NaN     NaN\n",
      "NV4     Huy  27.0     NaN   NaN     NaN\n",
      "NV11    NaN   NaN   Thanh  26.0     HCM\n",
      "NV12    NaN   NaN  Chuyen  47.0      HN\n",
      "       Name    Name\n",
      "NV1     TTT     TTT\n",
      "NV2     Hoa     NaN\n",
      "NV3   Trung     NaN\n",
      "NV4     Huy     NaN\n",
      "NV11    NaN   Thanh\n",
      "NV12    NaN  Chuyen\n"
     ]
    }
   ],
   "source": [
    "# Gộp dữ liệu, cùng key không sort lại tên các cột\n",
    "print(pd.concat([df1,df2],sort=False))\n",
    "\n",
    "# Gộp dữ liệu, cùng key không sort lại tên các cột, tạo index dòng mới\n",
    "print(pd.concat([df1,df2],sort=False, ignore_index=True))\n",
    "\n",
    "# Gộp hàng ngang, gộp cột -> cột trùng tên -\n",
    "temp=pd.concat([df1,df2],sort=False,axis=1)\n",
    "\n",
    "print(temp) #(pd.concat([df1,df2],sort=False,axis=1))\n",
    "temp.loc[:,'Name']\n",
    "# Thay đổi giá trị -> được\n",
    "temp.loc['NV1','Name']='TTT'\n",
    "print(temp.loc[:,'Name'])\n",
    "\n",
    "# Kiểm tra toàn vẹn dữ liệu, kg trùng index dòng, không trùng tên cột\n",
    "#print(pd.concat([df1,df2],sort=False,axis=1, verify_integrity=True)) # báo lỗi\n"
   ]
  },
  {
   "cell_type": "code",
   "execution_count": 4,
   "metadata": {},
   "outputs": [
    {
     "name": "stdout",
     "output_type": "stream",
     "text": [
      "      Name  Age\n",
      "NV1     An   15\n",
      "NV2    Hoa   22\n",
      "NV3  Trung   36\n",
      "NV4    Huy   27\n",
      "       Name  Age  Salary\n",
      "NV1   Hoang   15    1500\n",
      "NV12   Thuy   22    2700\n",
      "       Name  Age  Salary\n",
      "NV1      An   15     NaN\n",
      "NV2     Hoa   22     NaN\n",
      "NV3   Trung   36     NaN\n",
      "NV4     Huy   27     NaN\n",
      "NV1   Hoang   15  1500.0\n",
      "NV12   Thuy   22  2700.0\n",
      "       Name  Age\n",
      "NV1      An   15\n",
      "NV2     Hoa   22\n",
      "NV3   Trung   36\n",
      "NV4     Huy   27\n",
      "NV1   Hoang   15\n",
      "NV12   Thuy   22\n",
      "Inner \n",
      "     Name  Age   Name  Age  Salary\n",
      "NV1   An   15  Hoang   15    1500\n",
      "Default (Outer) \n",
      "        Name   Age   Name   Age  Salary\n",
      "NV1      An  15.0  Hoang  15.0  1500.0\n",
      "NV2     Hoa  22.0    NaN   NaN     NaN\n",
      "NV3   Trung  36.0    NaN   NaN     NaN\n",
      "NV4     Huy  27.0    NaN   NaN     NaN\n",
      "NV12    NaN   NaN   Thuy  22.0  2700.0\n"
     ]
    }
   ],
   "source": [
    "# Gộp dữ liệu, dùng tham số join\n",
    "\n",
    "df3=pd.DataFrame({'Name' : pd.Series(['Hoang', 'Thuy'],index=['NV1','NV12']),\n",
    "      'Age' : pd.Series([15, 22],index=['NV1','NV12']),\n",
    "      'Salary': pd.Series([1500, 2700],index=['NV1','NV12'])\n",
    "         })\n",
    "print(df1)\n",
    "print(df3)\n",
    "# gộp dữ liệu\n",
    "print(pd.concat([df1,df3],sort=False))\n",
    "# gộp dữ liệu, join='inner', 2 cột Name - Age chung \n",
    "print(pd.concat([df1,df3],sort=False,join='inner'))\n",
    "# gộp dữ liệu, join='inner', nhân viên NV1 chung sẽ hiển thị\n",
    "print('Inner \\n',pd.concat([df1,df3],axis=1, sort=False,join='inner'))\n",
    "print('Default (Outer) \\n',pd.concat([df1,df3],axis=1, sort=False))\n",
    "\n"
   ]
  },
  {
   "cell_type": "markdown",
   "metadata": {},
   "source": [
    "## Append"
   ]
  },
  {
   "cell_type": "code",
   "execution_count": 5,
   "metadata": {},
   "outputs": [
    {
     "name": "stdout",
     "output_type": "stream",
     "text": [
      "      Name  Age\n",
      "NV1     An   15\n",
      "NV2    Hoa   22\n",
      "NV3  Trung   36\n",
      "NV4    Huy   27\n",
      "        Name  Age Address\n",
      "NV11   Thanh   26     HCM\n",
      "NV12  Chuyen   47      HN\n",
      "        Name  Age Address\n",
      "NV1       An   15     NaN\n",
      "NV2      Hoa   22     NaN\n",
      "NV3    Trung   36     NaN\n",
      "NV4      Huy   27     NaN\n",
      "NV11   Thanh   26     HCM\n",
      "NV12  Chuyen   47      HN\n"
     ]
    }
   ],
   "source": [
    "df1=pd.DataFrame({'Name' : pd.Series(['An', 'Hoa', 'Trung','Huy'],index=['NV1','NV2','NV3','NV4']),\n",
    "      'Age' : pd.Series([15, 22, 36,27],index=['NV1','NV2','NV3','NV4'])\n",
    "         })\n",
    "df2 = pd.DataFrame({'Name' : pd.Series(['Thanh','Chuyen'], index=['NV11','NV12']),\n",
    "      'Age' : pd.Series([26,47],index=['NV11','NV12']),\n",
    "      'Address':pd.Series(['HCM','HN'],index=['NV11','NV12']) \n",
    "         })\n",
    "print(df1)\n",
    "\n",
    "print(df2)\n",
    "\n",
    "print(df1.append(df2,sort=False))"
   ]
  },
  {
   "cell_type": "markdown",
   "metadata": {},
   "source": [
    "## Merge"
   ]
  },
  {
   "cell_type": "code",
   "execution_count": 6,
   "metadata": {},
   "outputs": [
    {
     "name": "stdout",
     "output_type": "stream",
     "text": [
      "  employee        group\n",
      "0      Bob   Accounting\n",
      "1     Jake  Engineering\n",
      "2     Lisa  Engineering\n",
      "3      Sue           HR\n",
      "  employee  hire_date\n",
      "0     Lisa       2004\n",
      "1      Bob       2008\n",
      "2     Jake       2012\n",
      "3      Sue       2014\n",
      "  employee        group  hire_date\n",
      "0      Bob   Accounting       2008\n",
      "1     Jake  Engineering       2012\n",
      "2     Lisa  Engineering       2004\n",
      "3      Sue           HR       2014\n"
     ]
    }
   ],
   "source": [
    "df1 = pd.DataFrame({'employee': ['Bob', 'Jake', 'Lisa', 'Sue'], \n",
    "                   'group': ['Accounting', 'Engineering', 'Engineering', 'HR']})\n",
    "\n",
    "print(df1)\n",
    "\n",
    "#df11 = pd.DataFrame(df1, index=['a', 'b', 'c','d'])\n",
    "#print(df11)\n",
    "\n",
    "df2 = pd.DataFrame({'employee': ['Lisa', 'Bob', 'Jake', 'Sue'],\n",
    "                   'hire_date': [2004, 2008, 2012, 2014]})\n",
    "\n",
    "\n",
    "print(df2)\n",
    "df3 = pd.merge(df1, df2) # df1 và df2 có chung cột employee, and automatically joins using this column as a key\n",
    "print(df3)\n"
   ]
  },
  {
   "cell_type": "markdown",
   "metadata": {},
   "source": [
    "### Merge many - to - one"
   ]
  },
  {
   "cell_type": "code",
   "execution_count": 7,
   "metadata": {},
   "outputs": [
    {
     "name": "stdout",
     "output_type": "stream",
     "text": [
      "  employee        group  hire_date\n",
      "0      Bob   Accounting       2008\n",
      "1     Jake  Engineering       2012\n",
      "2     Lisa  Engineering       2004\n",
      "3      Sue           HR       2014\n",
      "         group supervisor\n",
      "0   Accounting      Carly\n",
      "1  Engineering      Guido\n",
      "2           HR      Steve\n",
      "  employee        group  hire_date supervisor\n",
      "0      Bob   Accounting       2008      Carly\n",
      "1     Jake  Engineering       2012      Guido\n",
      "2     Lisa  Engineering       2004      Guido\n",
      "3      Sue           HR       2014      Steve\n"
     ]
    }
   ],
   "source": [
    "df4 = pd.DataFrame({'group': ['Accounting', 'Engineering', 'HR'],\n",
    "'supervisor': ['Carly', 'Guido', 'Steve']})\n",
    "print(df3)\n",
    "print(df4)\n",
    "print(pd.merge(df3, df4))"
   ]
  },
  {
   "cell_type": "markdown",
   "metadata": {},
   "source": [
    "### Merge many - to - many"
   ]
  },
  {
   "cell_type": "code",
   "execution_count": 8,
   "metadata": {},
   "outputs": [
    {
     "name": "stdout",
     "output_type": "stream",
     "text": [
      "  employee        group\n",
      "0      Bob   Accounting\n",
      "1     Jake  Engineering\n",
      "2     Lisa  Engineering\n",
      "3      Sue           HR\n",
      "         group        skills\n",
      "0   Accounting          math\n",
      "1   Accounting  spreadsheets\n",
      "2  Engineering        coding\n",
      "3  Engineering         linux\n",
      "4           HR  spreadsheets\n",
      "5           HR  organization\n",
      "  employee        group        skills\n",
      "0      Bob   Accounting          math\n",
      "1      Bob   Accounting  spreadsheets\n",
      "2     Jake  Engineering        coding\n",
      "3     Jake  Engineering         linux\n",
      "4     Lisa  Engineering        coding\n",
      "5     Lisa  Engineering         linux\n",
      "6      Sue           HR  spreadsheets\n",
      "7      Sue           HR  organization\n"
     ]
    }
   ],
   "source": [
    "df5 = pd.DataFrame({'group': ['Accounting', 'Accounting', 'Engineering', 'Engineering', 'HR', 'HR'],\n",
    "                    'skills': ['math', 'spreadsheets', 'coding', 'linux','spreadsheets', 'organization']})\n",
    "\n",
    "print(df1)\n",
    "print(df5)\n",
    "print(pd.merge(df1, df5))"
   ]
  },
  {
   "cell_type": "markdown",
   "metadata": {},
   "source": [
    "### Merge - xác định tên cột"
   ]
  },
  {
   "cell_type": "code",
   "execution_count": 9,
   "metadata": {},
   "outputs": [
    {
     "name": "stdout",
     "output_type": "stream",
     "text": [
      "Data employee-group\n",
      "   employee        group\n",
      "0      Bob   Accounting\n",
      "1     Jake  Engineering\n",
      "2     Lisa  Engineering\n",
      "3      Sue           HR\n",
      "Data employee-salary\n",
      "    name  salary\n",
      "0   Bob   70000\n",
      "1  Jake   80000\n",
      "2  Lisa  120000\n",
      "3   Sue   90000\n",
      "Data employee-group-salary\n",
      "   employee        group  name  salary\n",
      "0      Bob   Accounting   Bob   70000\n",
      "1     Jake  Engineering  Jake   80000\n",
      "2     Lisa  Engineering  Lisa  120000\n",
      "3      Sue           HR   Sue   90000\n",
      "  employee        group  salary\n",
      "0      Bob   Accounting   70000\n",
      "1     Jake  Engineering   80000\n",
      "2     Lisa  Engineering  120000\n",
      "3      Sue           HR   90000\n"
     ]
    }
   ],
   "source": [
    "df1 = pd.DataFrame({'employee': ['Bob', 'Jake', 'Lisa', 'Sue'], \n",
    "                   'group': ['Accounting', 'Engineering', 'Engineering', 'HR']})\n",
    "\n",
    "df3 = pd.DataFrame({'name': ['Bob', 'Jake', 'Lisa', 'Sue'],\n",
    "                    'salary': [70000, 80000, 120000, 90000]})\n",
    "print('Data employee-group\\n',df1)\n",
    "print('Data employee-salary\\n',df3)\n",
    "print('Data employee-group-salary\\n',pd.merge(df1, df3, left_on=\"employee\", right_on=\"name\"))\n",
    "# Xóa bớt 1 cột name\n",
    "print(pd.merge(df1, df3, left_on=\"employee\", right_on=\"name\").drop('name',axis=1))\n"
   ]
  },
  {
   "cell_type": "markdown",
   "metadata": {},
   "source": [
    "### Merge theo index"
   ]
  },
  {
   "cell_type": "code",
   "execution_count": 10,
   "metadata": {},
   "outputs": [
    {
     "name": "stdout",
     "output_type": "stream",
     "text": [
      "Data employee-group\n",
      "   employee        group\n",
      "0      Bob   Accounting\n",
      "1     Jake  Engineering\n",
      "2     Lisa  Engineering\n",
      "3      Sue           HR\n",
      "Data employee-salary\n",
      "    name  salary\n",
      "0   Bob   70000\n",
      "1  Jake   80000\n",
      "2  Lisa  120000\n",
      "3   Sue   90000\n",
      "Data employee-group-salary\n",
      "   employee        group  name  salary\n",
      "0      Bob   Accounting   Bob   70000\n",
      "1     Jake  Engineering  Jake   80000\n",
      "2     Lisa  Engineering  Lisa  120000\n",
      "3      Sue           HR   Sue   90000\n"
     ]
    }
   ],
   "source": [
    "df1 = pd.DataFrame({'employee': ['Bob', 'Jake', 'Lisa', 'Sue'], \n",
    "                   'group': ['Accounting', 'Engineering', 'Engineering', 'HR']})\n",
    "\n",
    "df3 = pd.DataFrame({'name': ['Bob', 'Jake', 'Lisa', 'Sue'],\n",
    "                    'salary': [70000, 80000, 120000, 90000]})\n",
    "\n",
    "df1.set_index('employee')\n",
    "df3.set_index('name')\n",
    "print('Data employee-group\\n',df1)\n",
    "print('Data employee-salary\\n',df3)\n",
    "print('Data employee-group-salary\\n',pd.merge(df1, df3, left_index=True , right_index=True))\n",
    "\n"
   ]
  },
  {
   "cell_type": "markdown",
   "metadata": {},
   "source": [
    "### Merge - tham số how"
   ]
  },
  {
   "cell_type": "code",
   "execution_count": 11,
   "metadata": {},
   "outputs": [
    {
     "name": "stdout",
     "output_type": "stream",
     "text": [
      "Data employee\n",
      "   employee        group\n",
      "0      Bob   Accounting\n",
      "1     Jake  Engineering\n",
      "2     Lisa             \n",
      "3      Sue           HR\n",
      "Data group \n",
      "          group supervisor\n",
      "0   Accounting      Carly\n",
      "1  Engineering      Guido\n",
      "2           HR      Steve\n",
      "3          R&D        Tom\n",
      "Data employee-group Inner join\n",
      "   employee        group supervisor\n",
      "0      Bob   Accounting      Carly\n",
      "1     Jake  Engineering      Guido\n",
      "2      Sue           HR      Steve\n",
      "Data employee-group Outer join\n",
      "   employee        group supervisor\n",
      "0      Bob   Accounting      Carly\n",
      "1     Jake  Engineering      Guido\n",
      "2     Lisa                     NaN\n",
      "3      Sue           HR      Steve\n",
      "4      NaN          R&D        Tom\n",
      "Data employee-group Left join\n",
      "   employee        group supervisor\n",
      "0      Bob   Accounting      Carly\n",
      "1     Jake  Engineering      Guido\n",
      "2     Lisa                     NaN\n",
      "3      Sue           HR      Steve\n",
      "Data employee-group Right join\n",
      "   employee        group supervisor\n",
      "0      Bob   Accounting      Carly\n",
      "1     Jake  Engineering      Guido\n",
      "2      Sue           HR      Steve\n",
      "3      NaN          R&D        Tom\n"
     ]
    }
   ],
   "source": [
    "df1 = pd.DataFrame({'employee': ['Bob', 'Jake', 'Lisa', 'Sue'], \n",
    "                   'group': ['Accounting', 'Engineering', '', 'HR']})\n",
    "df4 = pd.DataFrame({'group': ['Accounting', 'Engineering', 'HR', 'R&D'],\n",
    "                   'supervisor': ['Carly', 'Guido', 'Steve','Tom']})\n",
    "\n",
    "print('Data employee\\n',df1)\n",
    "print('Data group \\n',df4)\n",
    "print('Data employee-group Inner join\\n',pd.merge(df1, df4, how='inner'))\n",
    "print('Data employee-group Outer join\\n',pd.merge(df1, df4, how='outer'))\n",
    "print('Data employee-group Left join\\n',pd.merge(df1, df4, how='left'))\n",
    "print('Data employee-group Right join\\n',pd.merge(df1, df4, how='right'))\n"
   ]
  },
  {
   "cell_type": "code",
   "execution_count": null,
   "metadata": {},
   "outputs": [],
   "source": []
  }
 ],
 "metadata": {
  "kernelspec": {
   "display_name": "Python 3",
   "language": "python",
   "name": "python3"
  },
  "language_info": {
   "codemirror_mode": {
    "name": "ipython",
    "version": 3
   },
   "file_extension": ".py",
   "mimetype": "text/x-python",
   "name": "python",
   "nbconvert_exporter": "python",
   "pygments_lexer": "ipython3",
   "version": "3.7.4"
  }
 },
 "nbformat": 4,
 "nbformat_minor": 2
}
