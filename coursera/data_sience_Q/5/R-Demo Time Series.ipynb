{
 "cells": [
  {
   "cell_type": "code",
   "execution_count": 1,
   "metadata": {},
   "outputs": [],
   "source": [
    "# Import thư viện\n",
    "import numpy as np\n",
    "import pandas as pd\n",
    "from datetime import datetime"
   ]
  },
  {
   "cell_type": "code",
   "execution_count": 2,
   "metadata": {},
   "outputs": [
    {
     "name": "stdout",
     "output_type": "stream",
     "text": [
      "2020-04-04 14:43:57.592862\n",
      "2020\n",
      "4\n",
      "4\n"
     ]
    }
   ],
   "source": [
    "now = datetime.now()\n",
    "print(now)\n",
    "print(now.year)\n",
    "print(now.month)\n",
    "print(now.day)"
   ]
  },
  {
   "cell_type": "code",
   "execution_count": 3,
   "metadata": {},
   "outputs": [
    {
     "name": "stdout",
     "output_type": "stream",
     "text": [
      "2 days, 2:30:00\n",
      "2\n",
      "9000\n"
     ]
    }
   ],
   "source": [
    "#Khoảng cách thời gian \n",
    "delta = datetime(2020, 1, 9,2,30) - datetime(2020, 1, 7)\n",
    "print(delta)\n",
    "print(delta.days)\n",
    "print(delta.seconds) # khoảng cách giây giữa 2:30:00 - 0:0:0 -> 9000 giây"
   ]
  },
  {
   "cell_type": "code",
   "execution_count": 36,
   "metadata": {},
   "outputs": [
    {
     "name": "stdout",
     "output_type": "stream",
     "text": [
      "2016-10-07 02:13:36\n",
      "1475781216.0\n"
     ]
    }
   ],
   "source": [
    "# Convert timestamp to real time and ngược lại\n",
    "\n",
    "timestamp = 1475806416 #1529272655\n",
    "real_t = pd.to_datetime(timestamp, unit='s')\n",
    "print(real_t)\n",
    "\n",
    "\n",
    "ts = pd.datetime.timestamp(real_t) \n",
    "print(ts) \n",
    "\n"
   ]
  },
  {
   "cell_type": "code",
   "execution_count": 19,
   "metadata": {},
   "outputs": [
    {
     "name": "stdout",
     "output_type": "stream",
     "text": [
      "(1296, 4) <class 'pandas.core.frame.DataFrame'>\n",
      "userId        int64\n",
      "movieId       int64\n",
      "tag          object\n",
      "timestamp     int64\n",
      "dtype: object\n"
     ]
    }
   ],
   "source": [
    "xlsx = pd.ExcelFile('movies.xlsx')\n",
    "tags = pd.read_excel(xlsx, 'tags')\n",
    "movies = pd.read_excel(xlsx, 'movies')\n",
    "ratings = pd.read_excel(xlsx, 'ratings')\n",
    "print(tags.shape, type(tags))\n",
    "print(tags.dtypes)"
   ]
  },
  {
   "cell_type": "code",
   "execution_count": 6,
   "metadata": {},
   "outputs": [
    {
     "name": "stdout",
     "output_type": "stream",
     "text": [
      "   userId  movieId                      tag   timestamp\n",
      "0      15      339  sandra 'boring' bullock  1138537770\n",
      "1      15     1955                  dentist  1193435061\n",
      "2      15     7478                 Cambodia  1170560997\n",
      "3      15    32892                  Russian  1170626366\n",
      "4      15    34162              forgettable  1141391765\n"
     ]
    }
   ],
   "source": [
    "# Lấy 5 dòng đầu của tags\n",
    "tags_sub = tags.head(5)\n",
    "print(tags_sub)"
   ]
  },
  {
   "cell_type": "code",
   "execution_count": 25,
   "metadata": {},
   "outputs": [
    {
     "name": "stdout",
     "output_type": "stream",
     "text": [
      "   userId  movieId                      tag   timestamp         parsed_time\n",
      "0      15      339  sandra 'boring' bullock  1138537770 2006-01-29 12:29:30\n",
      "4      15    34162              forgettable  1141391765 2006-03-03 13:16:05\n",
      "2      15     7478                 Cambodia  1170560997 2007-02-04 03:49:57\n",
      "3      15    32892                  Russian  1170626366 2007-02-04 21:59:26\n",
      "1      15     1955                  dentist  1193435061 2007-10-26 21:44:21\n"
     ]
    }
   ],
   "source": [
    "# doi thoi gian , timestamp -> parsed_time\n",
    "tags_sub = tags_sub.copy()\n",
    "tags_sub['parsed_time'] = pd.to_datetime(tags_sub['timestamp'], unit='s')\n",
    "print(tags_sub)"
   ]
  },
  {
   "cell_type": "code",
   "execution_count": 8,
   "metadata": {},
   "outputs": [
    {
     "name": "stdout",
     "output_type": "stream",
     "text": [
      "0    False\n",
      "1     True\n",
      "2     True\n",
      "3     True\n",
      "4    False\n",
      "Name: parsed_time, dtype: bool\n",
      "   userId  movieId       tag   timestamp         parsed_time\n",
      "1      15     1955   dentist  1193435061 2007-10-26 21:44:21\n",
      "2      15     7478  Cambodia  1170560997 2007-02-04 03:49:57\n",
      "3      15    32892   Russian  1170626366 2007-02-04 21:59:26\n"
     ]
    }
   ],
   "source": [
    "year_t = tags_sub['parsed_time'] > '2007-01-01'\n",
    "print(year_t)\n",
    "selected_rows = tags_sub[year_t]\n",
    "print(selected_rows)"
   ]
  },
  {
   "cell_type": "code",
   "execution_count": 9,
   "metadata": {},
   "outputs": [
    {
     "name": "stdout",
     "output_type": "stream",
     "text": [
      "   userId  movieId                      tag   timestamp         parsed_time\n",
      "0      15      339  sandra 'boring' bullock  1138537770 2006-01-29 12:29:30\n",
      "4      15    34162              forgettable  1141391765 2006-03-03 13:16:05\n",
      "2      15     7478                 Cambodia  1170560997 2007-02-04 03:49:57\n",
      "3      15    32892                  Russian  1170626366 2007-02-04 21:59:26\n",
      "1      15     1955                  dentist  1193435061 2007-10-26 21:44:21\n"
     ]
    }
   ],
   "source": [
    "tags_sub = tags_sub.sort_values(by='parsed_time', ascending=True)\n",
    "print(tags_sub)"
   ]
  },
  {
   "cell_type": "code",
   "execution_count": 10,
   "metadata": {},
   "outputs": [
    {
     "data": {
      "text/html": [
       "<div>\n",
       "<style scoped>\n",
       "    .dataframe tbody tr th:only-of-type {\n",
       "        vertical-align: middle;\n",
       "    }\n",
       "\n",
       "    .dataframe tbody tr th {\n",
       "        vertical-align: top;\n",
       "    }\n",
       "\n",
       "    .dataframe thead th {\n",
       "        text-align: right;\n",
       "    }\n",
       "</style>\n",
       "<table border=\"1\" class=\"dataframe\">\n",
       "  <thead>\n",
       "    <tr style=\"text-align: right;\">\n",
       "      <th></th>\n",
       "      <th>Colorado</th>\n",
       "      <th>Texas</th>\n",
       "      <th>New York</th>\n",
       "      <th>Ohio</th>\n",
       "    </tr>\n",
       "  </thead>\n",
       "  <tbody>\n",
       "    <tr>\n",
       "      <th>2020-01-31</th>\n",
       "      <td>-2.231357</td>\n",
       "      <td>0.119487</td>\n",
       "      <td>-0.091826</td>\n",
       "      <td>0.014444</td>\n",
       "    </tr>\n",
       "    <tr>\n",
       "      <th>2020-04-30</th>\n",
       "      <td>-0.074840</td>\n",
       "      <td>-0.337235</td>\n",
       "      <td>0.747396</td>\n",
       "      <td>-0.307598</td>\n",
       "    </tr>\n",
       "    <tr>\n",
       "      <th>2020-07-31</th>\n",
       "      <td>-0.253606</td>\n",
       "      <td>-1.178705</td>\n",
       "      <td>0.006684</td>\n",
       "      <td>-2.272627</td>\n",
       "    </tr>\n",
       "    <tr>\n",
       "      <th>2020-10-31</th>\n",
       "      <td>-0.598587</td>\n",
       "      <td>-0.605511</td>\n",
       "      <td>-0.434648</td>\n",
       "      <td>-1.114842</td>\n",
       "    </tr>\n",
       "    <tr>\n",
       "      <th>2021-01-31</th>\n",
       "      <td>0.430482</td>\n",
       "      <td>0.281902</td>\n",
       "      <td>-0.047131</td>\n",
       "      <td>-0.435144</td>\n",
       "    </tr>\n",
       "    <tr>\n",
       "      <th>...</th>\n",
       "      <td>...</td>\n",
       "      <td>...</td>\n",
       "      <td>...</td>\n",
       "      <td>...</td>\n",
       "    </tr>\n",
       "    <tr>\n",
       "      <th>2043-10-31</th>\n",
       "      <td>0.398132</td>\n",
       "      <td>-0.300593</td>\n",
       "      <td>0.365389</td>\n",
       "      <td>-0.132315</td>\n",
       "    </tr>\n",
       "    <tr>\n",
       "      <th>2044-01-31</th>\n",
       "      <td>-1.042940</td>\n",
       "      <td>0.003915</td>\n",
       "      <td>2.149435</td>\n",
       "      <td>-0.037167</td>\n",
       "    </tr>\n",
       "    <tr>\n",
       "      <th>2044-04-30</th>\n",
       "      <td>0.985685</td>\n",
       "      <td>0.408878</td>\n",
       "      <td>-1.480896</td>\n",
       "      <td>0.451889</td>\n",
       "    </tr>\n",
       "    <tr>\n",
       "      <th>2044-07-31</th>\n",
       "      <td>-0.292912</td>\n",
       "      <td>1.970798</td>\n",
       "      <td>2.109095</td>\n",
       "      <td>-1.115300</td>\n",
       "    </tr>\n",
       "    <tr>\n",
       "      <th>2044-10-31</th>\n",
       "      <td>-0.527977</td>\n",
       "      <td>1.075336</td>\n",
       "      <td>-1.525357</td>\n",
       "      <td>-0.620755</td>\n",
       "    </tr>\n",
       "  </tbody>\n",
       "</table>\n",
       "<p>100 rows × 4 columns</p>\n",
       "</div>"
      ],
      "text/plain": [
       "            Colorado     Texas  New York      Ohio\n",
       "2020-01-31 -2.231357  0.119487 -0.091826  0.014444\n",
       "2020-04-30 -0.074840 -0.337235  0.747396 -0.307598\n",
       "2020-07-31 -0.253606 -1.178705  0.006684 -2.272627\n",
       "2020-10-31 -0.598587 -0.605511 -0.434648 -1.114842\n",
       "2021-01-31  0.430482  0.281902 -0.047131 -0.435144\n",
       "...              ...       ...       ...       ...\n",
       "2043-10-31  0.398132 -0.300593  0.365389 -0.132315\n",
       "2044-01-31 -1.042940  0.003915  2.149435 -0.037167\n",
       "2044-04-30  0.985685  0.408878 -1.480896  0.451889\n",
       "2044-07-31 -0.292912  1.970798  2.109095 -1.115300\n",
       "2044-10-31 -0.527977  1.075336 -1.525357 -0.620755\n",
       "\n",
       "[100 rows x 4 columns]"
      ]
     },
     "execution_count": 10,
     "metadata": {},
     "output_type": "execute_result"
    }
   ],
   "source": [
    "# Phát sinh dữ liệu khoảng cách datetime -> hàm date_range\n",
    "\n",
    "#dates = pd.date_range('1/1/2020', periods=100, freq='W-MON') # bắt đầu '1/1/2020', phát sinh theo tuần, 100 dòng, Thứ 2 là bắt đầu 1 tuần\n",
    "dates = pd.date_range('1/1/2020', periods=100, freq='Q-JAN') # bắt đầu '1/1/2020', phát sinh theo Quý, 100 dòng, Tháng 1 là bắt đầu 1 quý\n",
    "\n",
    "long_df = pd.DataFrame(np.random.randn(100, 4),\n",
    "                       index=dates,\n",
    "                       columns=['Colorado', 'Texas',\n",
    "                                'New York', 'Ohio'])\n",
    "long_df"
   ]
  },
  {
   "cell_type": "code",
   "execution_count": 11,
   "metadata": {},
   "outputs": [
    {
     "name": "stdout",
     "output_type": "stream",
     "text": [
      "2020-01-01    0.979796\n",
      "2020-01-02    0.494690\n",
      "2020-01-03    0.459625\n",
      "2020-01-04    0.690915\n",
      "2020-01-05    0.875817\n",
      "Freq: D, dtype: float64\n",
      "2020-01-01    0.979796\n",
      "2020-01-02    0.494690\n",
      "2020-01-03    0.459625\n",
      "2020-01-04    0.690915\n",
      "2020-01-05    0.875817\n",
      "                ...   \n",
      "2020-04-05    0.265431\n",
      "2020-04-06    0.813174\n",
      "2020-04-07    0.968946\n",
      "2020-04-08    0.697871\n",
      "2020-04-09    0.171356\n",
      "Freq: D, Length: 100, dtype: float64\n",
      "2020-01-31    0.578624\n",
      "2020-02-29    0.496577\n",
      "2020-03-31    0.451267\n",
      "2020-04-30    0.561864\n",
      "Freq: M, dtype: float64\n",
      "0.5786242341838959\n"
     ]
    }
   ],
   "source": [
    "#Resampling refers to the process of converting a time series from one frequency to another. \n",
    "#Aggregating higher frequency data to lower frequency is called downsampling, \n",
    "#while converting lower frequency to higher frequency is called upsampling\n",
    "\n",
    "# downsampling from day - month\n",
    "rng = pd.date_range('2020-01-01', periods=100, freq='D')\n",
    "ts = pd.Series(np.random.rand(len(rng)), index=rng)\n",
    "print(ts.head())\n",
    "print(ts)\n",
    "print(ts.resample('M').mean())\n",
    "\n",
    "print(ts['2020-01-01':'2020-01-31'].mean())\n",
    "# resample has a similar API to groupby; you call resample to group the data, then call an aggregation function\n",
    "\n",
    "# upsampling from week to day"
   ]
  },
  {
   "cell_type": "code",
   "execution_count": 38,
   "metadata": {},
   "outputs": [
    {
     "data": {
      "text/html": [
       "<div>\n",
       "<style scoped>\n",
       "    .dataframe tbody tr th:only-of-type {\n",
       "        vertical-align: middle;\n",
       "    }\n",
       "\n",
       "    .dataframe tbody tr th {\n",
       "        vertical-align: top;\n",
       "    }\n",
       "\n",
       "    .dataframe thead th {\n",
       "        text-align: right;\n",
       "    }\n",
       "</style>\n",
       "<table border=\"1\" class=\"dataframe\">\n",
       "  <thead>\n",
       "    <tr style=\"text-align: right;\">\n",
       "      <th></th>\n",
       "      <th>movieId</th>\n",
       "      <th>title</th>\n",
       "      <th>genres</th>\n",
       "      <th>userId</th>\n",
       "      <th>rating</th>\n",
       "      <th>timestamp</th>\n",
       "      <th>date</th>\n",
       "    </tr>\n",
       "  </thead>\n",
       "  <tbody>\n",
       "    <tr>\n",
       "      <th>0</th>\n",
       "      <td>1</td>\n",
       "      <td>Toy Story (1995)</td>\n",
       "      <td>Adventure|Animation|Children|Comedy|Fantasy</td>\n",
       "      <td>7</td>\n",
       "      <td>3.0</td>\n",
       "      <td>851866703</td>\n",
       "      <td>1996-12-29 13:38:23</td>\n",
       "    </tr>\n",
       "    <tr>\n",
       "      <th>1</th>\n",
       "      <td>1</td>\n",
       "      <td>Toy Story (1995)</td>\n",
       "      <td>Adventure|Animation|Children|Comedy|Fantasy</td>\n",
       "      <td>9</td>\n",
       "      <td>4.0</td>\n",
       "      <td>938629179</td>\n",
       "      <td>1999-09-29 18:19:39</td>\n",
       "    </tr>\n",
       "    <tr>\n",
       "      <th>2</th>\n",
       "      <td>1</td>\n",
       "      <td>Toy Story (1995)</td>\n",
       "      <td>Adventure|Animation|Children|Comedy|Fantasy</td>\n",
       "      <td>13</td>\n",
       "      <td>5.0</td>\n",
       "      <td>1331380058</td>\n",
       "      <td>2012-03-10 11:47:38</td>\n",
       "    </tr>\n",
       "    <tr>\n",
       "      <th>3</th>\n",
       "      <td>1</td>\n",
       "      <td>Toy Story (1995)</td>\n",
       "      <td>Adventure|Animation|Children|Comedy|Fantasy</td>\n",
       "      <td>15</td>\n",
       "      <td>2.0</td>\n",
       "      <td>997938310</td>\n",
       "      <td>2001-08-16 05:05:10</td>\n",
       "    </tr>\n",
       "    <tr>\n",
       "      <th>4</th>\n",
       "      <td>1</td>\n",
       "      <td>Toy Story (1995)</td>\n",
       "      <td>Adventure|Animation|Children|Comedy|Fantasy</td>\n",
       "      <td>19</td>\n",
       "      <td>3.0</td>\n",
       "      <td>855190091</td>\n",
       "      <td>1997-02-06 00:48:11</td>\n",
       "    </tr>\n",
       "  </tbody>\n",
       "</table>\n",
       "</div>"
      ],
      "text/plain": [
       "   movieId             title                                       genres  \\\n",
       "0        1  Toy Story (1995)  Adventure|Animation|Children|Comedy|Fantasy   \n",
       "1        1  Toy Story (1995)  Adventure|Animation|Children|Comedy|Fantasy   \n",
       "2        1  Toy Story (1995)  Adventure|Animation|Children|Comedy|Fantasy   \n",
       "3        1  Toy Story (1995)  Adventure|Animation|Children|Comedy|Fantasy   \n",
       "4        1  Toy Story (1995)  Adventure|Animation|Children|Comedy|Fantasy   \n",
       "\n",
       "   userId  rating   timestamp                date  \n",
       "0       7     3.0   851866703 1996-12-29 13:38:23  \n",
       "1       9     4.0   938629179 1999-09-29 18:19:39  \n",
       "2      13     5.0  1331380058 2012-03-10 11:47:38  \n",
       "3      15     2.0   997938310 2001-08-16 05:05:10  \n",
       "4      19     3.0   855190091 1997-02-06 00:48:11  "
      ]
     },
     "execution_count": 38,
     "metadata": {},
     "output_type": "execute_result"
    }
   ],
   "source": [
    "movies_ratings = pd.merge(movies,ratings,on='movieId')\n",
    "movies_ratings['date'] = pd.to_datetime(movies_ratings['timestamp'], unit='s')\n",
    "movies_ratings.head()"
   ]
  },
  {
   "cell_type": "code",
   "execution_count": 49,
   "metadata": {},
   "outputs": [
    {
     "name": "stdout",
     "output_type": "stream",
     "text": [
      "<class 'pandas.core.frame.DataFrame'>\n",
      "Int64Index: 100004 entries, 0 to 100003\n",
      "Data columns (total 7 columns):\n",
      "movieId      100004 non-null int64\n",
      "title        100004 non-null object\n",
      "genres       100004 non-null object\n",
      "userId       100004 non-null int64\n",
      "rating       100004 non-null float64\n",
      "timestamp    100004 non-null int64\n",
      "date         100004 non-null datetime64[ns]\n",
      "dtypes: datetime64[ns](1), float64(1), int64(3), object(2)\n",
      "memory usage: 8.6+ MB\n"
     ]
    }
   ],
   "source": [
    "movies_ratings.info()\n"
   ]
  },
  {
   "cell_type": "code",
   "execution_count": 64,
   "metadata": {},
   "outputs": [],
   "source": [
    "mv=movies_ratings[movies_ratings['movieId']==1][['rating','date']].set_index('date')"
   ]
  },
  {
   "cell_type": "code",
   "execution_count": 69,
   "metadata": {},
   "outputs": [
    {
     "data": {
      "text/plain": [
       "<matplotlib.axes._subplots.AxesSubplot at 0x25f3ba38348>"
      ]
     },
     "execution_count": 69,
     "metadata": {},
     "output_type": "execute_result"
    },
    {
     "data": {
      "image/png": "[encoded data removed]",
      "text/plain": [
       "<Figure size 432x288 with 1 Axes>"
      ]
     },
     "metadata": {
      "needs_background": "light"
     },
     "output_type": "display_data"
    }
   ],
   "source": [
    "mv.resample('Y').mean().plot()"
   ]
  },
  {
   "cell_type": "code",
   "execution_count": null,
   "metadata": {},
   "outputs": [],
   "source": []
  }
 ],
 "metadata": {
  "kernelspec": {
   "display_name": "Python 3",
   "language": "python",
   "name": "python3"
  },
  "language_info": {
   "codemirror_mode": {
    "name": "ipython",
    "version": 3
   },
   "file_extension": ".py",
   "mimetype": "text/x-python",
   "name": "python",
   "nbconvert_exporter": "python",
   "pygments_lexer": "ipython3",
   "version": "3.7.4"
  }
 },
 "nbformat": 4,
 "nbformat_minor": 2
}
