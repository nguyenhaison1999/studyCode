{
 "cells": [
  {
   "cell_type": "markdown",
   "metadata": {
    "colab_type": "text",
    "id": "dlvl6kiulffy"
   },
   "source": [
    "# Chapter 3 - Exercise 1c: "
   ]
  },
  {
   "cell_type": "markdown",
   "metadata": {},
   "source": [
    "### Các kiến thức sử dụng trong bài tập:\n",
    "\n",
    "#### Tạo mảng (numpy array):\n",
    "1. Tạo mảng là 1 dãy số bắt đầu từ a đến b - 1: hàm **arange**\n",
    "2. Tạo mảng từ 1 dãy số cho trước\n",
    "3. Tạo mảng với các phần tử là số 0: hàm **zeros**\n",
    "4. Tạo mảng theo điều kiện từ mảng đã có \n",
    "\n",
    "#### Các thao tác trên mảng:\n",
    "1. Thêm phần tử vào cuối mảng đang có: hàm **append**\n",
    "2. Chèn thêm phần tử vào vị trí bất kỳ trong mảng đang có: hàm **insert** \n",
    "3. Xóa phần tử trong mảng: hàm **delete**"
   ]
  },
  {
   "cell_type": "markdown",
   "metadata": {},
   "source": [
    "#### Thực hiện các yêu cầu sau và đối chiếu với kết quả cho trước:"
   ]
  },
  {
   "cell_type": "code",
   "execution_count": null,
   "metadata": {
    "colab": {},
    "colab_type": "code",
    "id": "gr8DM63nlff1"
   },
   "outputs": [],
   "source": [
    "import numpy as np"
   ]
  },
  {
   "cell_type": "code",
   "execution_count": 2,
   "metadata": {
    "colab": {},
    "colab_type": "code",
    "id": "3P1lo38ulfgF"
   },
   "outputs": [],
   "source": [
    "# Câu 1: Tạo array arr_zeros có 10 phần tử 0, cập nhật phần tử ở vị trí thứ 5 là 1\n",
    "\n"
   ]
  },
  {
   "cell_type": "markdown",
   "metadata": {},
   "source": [
    "<details>\n",
    "  <summary>Nhấn vào đây để xem kết quả !</summary>\n",
    "  \n",
    " <pre>[0. 0. 0. 0. 0. 0. 0. 0. 0. 0.]\n",
    "[0. 0. 0. 0. 1. 0. 0. 0. 0. 0.]\n",
    "</pre>\n",
    "\n",
    "</details>"
   ]
  },
  {
   "cell_type": "code",
   "execution_count": 3,
   "metadata": {
    "colab": {},
    "colab_type": "code",
    "id": "D-4lZJEwlfgH"
   },
   "outputs": [],
   "source": [
    "# Câu 2: Tạo và in array arr_h có giá trị từ 10 đến 24 \n",
    "\n",
    "# In danh sách các phần tử theo tứ tự đảo ngược của arr_h vừa tạo\n"
   ]
  },
  {
   "cell_type": "markdown",
   "metadata": {},
   "source": [
    "<details>\n",
    "  <summary>Nhấn vào đây để xem kết quả !</summary>\n",
    "  \n",
    " <pre>[10 11 12 13 14 15 16 17 18 19 20 21 22 23 24]\n",
    "[24 23 22 21 20 19 18 17 16 15 14 13 12 11 10]\n",
    "</pre>\n",
    "\n",
    "</details>"
   ]
  },
  {
   "cell_type": "code",
   "execution_count": 4,
   "metadata": {
    "colab": {},
    "colab_type": "code",
    "id": "_CFg2g01lfgJ"
   },
   "outputs": [],
   "source": [
    "# Câu 3: Cho array arr_k = [1, 2, 0, 8, 2, 0, 1, 3, 0, 5, 0] \n",
    "# Tạo array arr_l từ arr_k với các phần tử khác 0\n"
   ]
  },
  {
   "cell_type": "markdown",
   "metadata": {},
   "source": [
    "<details>\n",
    "  <summary>Nhấn vào đây để xem kết quả !</summary>\n",
    "  \n",
    " <pre>[1 2 0 8 2 0 1 3 0 5 0]\n",
    "[1 2 8 2 1 3 5]\n",
    "</pre>\n",
    "\n",
    "</details>"
   ]
  },
  {
   "cell_type": "code",
   "execution_count": 6,
   "metadata": {
    "colab": {},
    "colab_type": "code",
    "id": "y_b3ny0UlfgM"
   },
   "outputs": [],
   "source": [
    "# Câu 4: Từ array arr_l của câu 3, thêm 2 phần tử có giá trị là 10 và 20 vào cuối array\n",
    "\n"
   ]
  },
  {
   "cell_type": "markdown",
   "metadata": {},
   "source": [
    "<details>\n",
    "  <summary>Nhấn vào đây để xem kết quả !</summary>\n",
    "  \n",
    " <pre>[ 1  2  8  2  1  3  5 10 20]\n",
    "</pre>\n",
    "\n",
    "</details>"
   ]
  },
  {
   "cell_type": "code",
   "execution_count": 7,
   "metadata": {
    "colab": {},
    "colab_type": "code",
    "id": "2Ko3BSSElfgP"
   },
   "outputs": [],
   "source": [
    "# Câu 5: Từ array của câu 4, thêm phần tử có giá trị 100 vào vị trí có index = 5\n",
    "\n"
   ]
  },
  {
   "cell_type": "markdown",
   "metadata": {},
   "source": [
    "<details>\n",
    "  <summary>Nhấn vào đây để xem kết quả !</summary>\n",
    "  \n",
    " <pre>[  1   2   8   2   1 100   3   5  10  20]\n",
    "</pre>\n",
    "\n",
    "</details>"
   ]
  },
  {
   "cell_type": "code",
   "execution_count": 8,
   "metadata": {
    "colab": {},
    "colab_type": "code",
    "id": "JIzFSAGFlfgR"
   },
   "outputs": [],
   "source": [
    "# Câu 6: Từ array của câu 5, xóa các phần tử tại vị trí có index = 0, 1, 2\n",
    "\n"
   ]
  },
  {
   "cell_type": "markdown",
   "metadata": {},
   "source": [
    "<details>\n",
    "  <summary>Nhấn vào đây để xem kết quả !</summary>\n",
    "  \n",
    " <pre>[  2   1 100   3   5  10  20]\n",
    "</pre>\n",
    "\n",
    "</details>"
   ]
  }
 ],
 "metadata": {
  "colab": {
   "name": "Chapter3_Exercise1.ipynb",
   "provenance": []
  },
  "kernelspec": {
   "display_name": "Python 3",
   "language": "python",
   "name": "python3"
  },
  "language_info": {
   "codemirror_mode": {
    "name": "ipython",
    "version": 3
   },
   "file_extension": ".py",
   "mimetype": "text/x-python",
   "name": "python",
   "nbconvert_exporter": "python",
   "pygments_lexer": "ipython3",
   "version": "3.7.6"
  }
 },
 "nbformat": 4,
 "nbformat_minor": 1
}
