{
 "cells": [
  {
   "cell_type": "markdown",
   "metadata": {},
   "source": [
    "# Chapter 3 - Exercise 3\n"
   ]
  },
  {
   "cell_type": "markdown",
   "metadata": {},
   "source": [
    "### Các kiến thức sử dụng trong bài tập:\n",
    "\n",
    "##### Các xử lý trên mảng 2 chiều\n",
    "1. Biến đổi chiều của mảng (vd; mảng 1 chiều --> mảng 2 chiều): **reshape**\n",
    "2. Tạo mảng với tất cả các phần tử có giá trị là 1\n",
    "3. Thay đổi thứ tự các dòng trong mảng\n",
    "4. Thay đổi thứ tự các cột trong mảng\n",
    "5. Đảo ngược các dòng trong mảng\n",
    "6. Đảo ngược các cột trong mảng\n",
    "7. Kiểm tra xem trong mảng có phần tử Nan (Null) hay không: **isnan**\n"
   ]
  },
  {
   "cell_type": "markdown",
   "metadata": {},
   "source": [
    "### Thực hiện các yêu cầu sau đây và đối chiếu với kết quả cho trước:"
   ]
  },
  {
   "cell_type": "code",
   "execution_count": null,
   "metadata": {},
   "outputs": [],
   "source": [
    "import numpy as np"
   ]
  },
  {
   "cell_type": "code",
   "execution_count": 1,
   "metadata": {},
   "outputs": [],
   "source": [
    "# Câu 1: Tạo array arr có kích thước 3x3 với tất cả các giá trị đều là True. \n",
    "\n",
    "# Hiển thị các phần tử của array arr\n",
    "\n"
   ]
  },
  {
   "cell_type": "markdown",
   "metadata": {},
   "source": [
    "<details>\n",
    "  <summary>Nhấn vào đây để xem kết quả !</summary>\n",
    "  \n",
    "  <pre>[[ True  True  True]\n",
    " [ True  True  True]\n",
    " [ True  True  True]]\n",
    "</pre>\n",
    "\n",
    "</details>"
   ]
  },
  {
   "cell_type": "code",
   "execution_count": 2,
   "metadata": {},
   "outputs": [],
   "source": [
    "# Câu 2: Cho array arr_1D = np.array([0 1 2 3 4 5 6 7 8]). \n",
    "# Hãy chuyển thành array 2 chiều có kích thước 3x3 và lưu vào arr_2D.\n",
    "\n",
    "# Xem danh sách các phần tử của arr_2D. \n",
    "\n",
    "# Trong arr_2D. Chuyển cột 1 sang cột 3 và ngược lại. => Xem lại danh sách các phần tử của arr_2D\n",
    "\n"
   ]
  },
  {
   "cell_type": "markdown",
   "metadata": {},
   "source": [
    "<details>\n",
    "  <summary>Nhấn vào đây để xem kết quả !</summary>\n",
    "  \n",
    " <pre>[0 1 2 3 4 5 6 7 8] \n",
    "\n",
    "[[0 1 2]\n",
    " [3 4 5]\n",
    " [6 7 8]] \n",
    "\n",
    "[[2 1 0]\n",
    " [5 4 3]\n",
    " [8 7 6]]\n",
    "</pre>\n",
    "\n",
    "</details>"
   ]
  },
  {
   "cell_type": "code",
   "execution_count": 3,
   "metadata": {},
   "outputs": [],
   "source": [
    "# Câu 3: Sử dụng array arr_2D của câu 2 (sau khi đổi thứ tự cột), chuyển dòng 1 sang dòng 2 và ngược lại \n",
    "\n",
    "# Xem lại danh sách các phần tử của arr_2D\n"
   ]
  },
  {
   "cell_type": "markdown",
   "metadata": {},
   "source": [
    "<details>\n",
    "  <summary>Nhấn vào đây để xem kết quả !</summary>\n",
    "  \n",
    "  <pre>[[5 4 3]\n",
    " [2 1 0]\n",
    " [8 7 6]]\n",
    "</pre>\n",
    "\n",
    "</details>"
   ]
  },
  {
   "cell_type": "code",
   "execution_count": 4,
   "metadata": {},
   "outputs": [],
   "source": [
    "# Câu 4: Sử dụng array arr_2D của câu 3, Đảo ngược các dòng của array arr_2D \n",
    "\n",
    "# Xem lại danh sách các phần tử của arr_2D\n"
   ]
  },
  {
   "cell_type": "markdown",
   "metadata": {},
   "source": [
    "<details>\n",
    "  <summary>Nhấn vào đây để xem kết quả !</summary>\n",
    "  \n",
    "<pre>[[8 7 6]\n",
    " [2 1 0]\n",
    " [5 4 3]]\n",
    "</pre>\n",
    "\n",
    "</details>"
   ]
  },
  {
   "cell_type": "code",
   "execution_count": 5,
   "metadata": {},
   "outputs": [],
   "source": [
    "# Câu 5: Sử dụng array arr_2D của câu 4, Đảo ngược các cột của array arr_2D => Xem lại danh sách các phần tử của arr_2D\n",
    "\n"
   ]
  },
  {
   "cell_type": "markdown",
   "metadata": {},
   "source": [
    "<details>\n",
    "  <summary>Nhấn vào đây để xem kết quả !</summary>\n",
    "  \n",
    " <pre>[[6 7 8]\n",
    " [0 1 2]\n",
    " [3 4 5]]\n",
    "</pre>\n",
    "\n",
    "</details>"
   ]
  },
  {
   "cell_type": "code",
   "execution_count": 6,
   "metadata": {},
   "outputs": [],
   "source": [
    "# Câu 6: Cho arr_2D_null = np.array([[1, 2, 3], [np.NaN, 5, 6], [7, np.NaN, 9], [4, 5, 6]]), \n",
    "# Kiểm tra xem trong array có giá trị rỗng nào không?\n",
    "\n"
   ]
  },
  {
   "cell_type": "markdown",
   "metadata": {},
   "source": [
    "<details>\n",
    "  <summary>Nhấn vào đây để xem kết quả !</summary>\n",
    "  \n",
    " <pre>[[ 1.  2.  3.]\n",
    " [nan  5.  6.]\n",
    " [ 7. nan  9.]\n",
    " [ 4.  5.  6.]] \n",
    "\n",
    "Have nan? :  True\n",
    "</pre>\n",
    "\n",
    "</details>"
   ]
  },
  {
   "cell_type": "code",
   "execution_count": 7,
   "metadata": {},
   "outputs": [],
   "source": [
    "# Câu 7: Sử dụng array arr_2D_null của câu 6, thay thế giá trị null bằng 0 => Xem lại danh sách các phần tử của arr_2D_null\n",
    "\n"
   ]
  },
  {
   "cell_type": "markdown",
   "metadata": {},
   "source": [
    "<details>\n",
    "  <summary>Nhấn vào đây để xem kết quả !</summary>\n",
    "  \n",
    "  <pre>Before:\n",
    "[[ 1.  2.  3.]\n",
    " [nan  5.  6.]\n",
    " [ 7. nan  9.]\n",
    " [ 4.  5.  6.]] \n",
    "\n",
    "After:\n",
    "[[1. 2. 3.]\n",
    " [0. 5. 6.]\n",
    " [7. 0. 9.]\n",
    " [4. 5. 6.]]\n",
    "</pre>\n",
    "\n",
    "</details>"
   ]
  }
 ],
 "metadata": {
  "kernelspec": {
   "display_name": "Python 3",
   "language": "python",
   "name": "python3"
  },
  "language_info": {
   "codemirror_mode": {
    "name": "ipython",
    "version": 3
   },
   "file_extension": ".py",
   "mimetype": "text/x-python",
   "name": "python",
   "nbconvert_exporter": "python",
   "pygments_lexer": "ipython3",
   "version": "3.7.6"
  }
 },
 "nbformat": 4,
 "nbformat_minor": 2
}
