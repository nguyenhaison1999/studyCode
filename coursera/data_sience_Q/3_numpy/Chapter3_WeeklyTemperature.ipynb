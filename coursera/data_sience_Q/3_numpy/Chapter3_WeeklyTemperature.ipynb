{
 "cells": [
  {
   "cell_type": "markdown",
   "metadata": {},
   "source": [
    "## Bài làm thêm 3.2 : Phân tích nhiệt độ các ngày trong tuần\n",
    "\n",
    "Tưởng tượng bạn đang làm việc trong một nhóm các nhà khoa học khí hậu, vai trò của bạn là lấy dữ liệu nhiệt độ các ngày trong  và nhập vào mảng để phân tích sau. Cảm biến ghi lại nhiệt độ 4 lần một ngày từ Thứ Hai đến Thứ Sáu, vào lúc 0:00, 6:00, 12:00 và 18:00. \n",
    "\n",
    "Dữ liệu thu được 1 tuần như sau:\n",
    "\n",
    "Thứ 2: 43.6, 45.1, 58.8, 53,\n",
    "\n",
    "Thứ 3: 47, 44.5, 58.3, 52.6, \n",
    "\n",
    "Thứ 4: 46.7, 44.2, 57.9, 52.2, \n",
    "\n",
    "Thứ 5: 46.5, 44.1, 57.6, 51.9, \n",
    "\n",
    "Thứ 6: 46.2, 43.9, 57.2, 51.5\n"
   ]
  },
  {
   "cell_type": "markdown",
   "metadata": {},
   "source": [
    "**Yêu cầu :**"
   ]
  },
  {
   "cell_type": "markdown",
   "metadata": {},
   "source": [
    "1. Chuyển dữ liệu đã cho sang 2D numpy array, đặt tên là temperatures \n",
    "2. Một trong những nhà nghiên cứu nhận thấy rằng cảm biến đã bị xóa không chính xác và tất cả nhiệt độ được ghi lại là quá lạnh 3.0 độ. Hãy điều chỉnh mảng sao cho số đọc nhiệt độ chính xác (*cộng thêm 3 độ*), và lưu vào biến temperatures_fixed\n",
    "3. Cho biết các giá trị nhiệt độ ngày thứ Hai, lưu dữ liệu vào biến monday_temperatures.\n",
    "4. Bạn có thể cho biết dữ liệu lúc 6:00 sáng cho thứ Năm và thứ Sáu không? Lưu dữ liệu này biến thursday_friday_morning.\n",
    "5. Cho biết tất cả nhiệt độ dưới 50 độ hoặc hơn 60 độ, và lưu vào biến temperature_extremes"
   ]
  },
  {
   "cell_type": "code",
   "execution_count": null,
   "metadata": {},
   "outputs": [],
   "source": [
    "import numpy as np"
   ]
  },
  {
   "cell_type": "code",
   "execution_count": 1,
   "metadata": {},
   "outputs": [],
   "source": [
    "# Tạo 2D numpy array  temperatures\n"
   ]
  },
  {
   "cell_type": "markdown",
   "metadata": {},
   "source": [
    "<details>\n",
    "  <summary>Nhấn vào đây để xem kết quả !</summary>\n",
    "  \n",
    "  <pre>array([[43.6, 45.1, 58.8, 53. ],\n",
    "       [47. , 44.5, 58.3, 52.6],\n",
    "       [46.7, 44.2, 57.9, 52.2],\n",
    "       [46.5, 44.1, 57.6, 51.9],\n",
    "       [46.2, 43.9, 57.2, 51.5]])</pre>\n",
    "\n",
    "</details>"
   ]
  },
  {
   "cell_type": "code",
   "execution_count": 9,
   "metadata": {},
   "outputs": [],
   "source": [
    "# Điều chỉnh lại dữ liệu sao cho số đọc nhiệt độ chính xác\n",
    "print(temperatures_fixed)"
   ]
  },
  {
   "cell_type": "markdown",
   "metadata": {},
   "source": [
    "<details>\n",
    "  <summary>Nhấn vào đây để xem kết quả !</summary>\n",
    "  \n",
    "  <pre>[[46.6 48.1 61.8 56. ]\n",
    " [50.  47.5 61.3 55.6]\n",
    " [49.7 47.2 60.9 55.2]\n",
    " [49.5 47.1 60.6 54.9]\n",
    " [49.2 46.9 60.2 54.5]]\n",
    "</pre>\n",
    "\n",
    "</details>"
   ]
  },
  {
   "cell_type": "code",
   "execution_count": 10,
   "metadata": {},
   "outputs": [],
   "source": [
    "# Một nhà nghiên cứu khác hỏi bạn về các giá trị nhiệt độ của ngày thứ Hai. \n",
    "# Cho biết các giá trị nhiệt độ của ngày thứ Hai\n"
   ]
  },
  {
   "cell_type": "markdown",
   "metadata": {},
   "source": [
    "<details>\n",
    "  <summary>Nhấn vào đây để xem kết quả !</summary>\n",
    "  \n",
    "  <pre>[46.6 48.1 61.8 56. ]\n",
    "</pre>\n",
    "\n",
    "</details>"
   ]
  },
  {
   "cell_type": "code",
   "execution_count": 11,
   "metadata": {},
   "outputs": [],
   "source": [
    "# Cho biết các giá trị nhiệt độ lúc 6:00 sáng của ngày thứ Năm và thứ Sáu\n"
   ]
  },
  {
   "cell_type": "markdown",
   "metadata": {},
   "source": [
    "<details>\n",
    "  <summary>Nhấn vào đây để xem kết quả !</summary>\n",
    "  \n",
    "  <pre>[47.1 46.9]\n",
    "</pre>\n",
    "\n",
    "</details>"
   ]
  },
  {
   "cell_type": "code",
   "execution_count": 12,
   "metadata": {},
   "outputs": [],
   "source": [
    "# Cho biết tất cả nhiệt độ dưới 50 độ hoặc hơn 60 độ\n"
   ]
  },
  {
   "cell_type": "markdown",
   "metadata": {},
   "source": [
    "<details>\n",
    "  <summary>Nhấn vào đây để xem kết quả !</summary>\n",
    "  \n",
    "  <pre>[46.6 48.1 61.8 47.5 61.3 49.7 47.2 60.9 49.5 47.1 60.6 49.2 46.9 60.2]\n",
    "</pre>\n",
    "\n",
    "</details>"
   ]
  }
 ],
 "metadata": {
  "kernelspec": {
   "display_name": "Python 3",
   "language": "python",
   "name": "python3"
  },
  "language_info": {
   "codemirror_mode": {
    "name": "ipython",
    "version": 3
   },
   "file_extension": ".py",
   "mimetype": "text/x-python",
   "name": "python",
   "nbconvert_exporter": "python",
   "pygments_lexer": "ipython3",
   "version": "3.7.6"
  }
 },
 "nbformat": 4,
 "nbformat_minor": 2
}
