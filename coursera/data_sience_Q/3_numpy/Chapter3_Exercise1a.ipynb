{
 "cells": [
  {
   "cell_type": "markdown",
   "metadata": {
    "colab_type": "text",
    "id": "dlvl6kiulffy"
   },
   "source": [
    "# Chapter 3 - Exercise 1a: "
   ]
  },
  {
   "cell_type": "markdown",
   "metadata": {},
   "source": [
    "### Các kiến thức sử dụng trong bài tập:\n",
    "\n",
    "#### Tạo mảng (numpy array):\n",
    "1. Tạo mảng có giá trị trong khoảng từ a đến b - 1: <p style=\"color:blue\">biến_mảng = np.arange(a, b)</p>\n",
    "2. Tạo mảng từ 1 dãy số cho trước: <p style=\"color:blue\">biến_mảng = np.array([dãy số])</p>\n",
    "3. Tạo mảng theo điều kiện từ mảng đã có: <p style=\"color:blue\">biến_mảng_mới = biến_mảng[<điều kiện>]</p>ví dụ: <span style=\"color:blue\">arr_even = arr[arr % 2 == 0]</span>\n",
    "\n",
    "#### Các thao tác trên mảng:\n",
    "Xem số phần tử có trong mảng: <span style=\"color:blue\">biến_mảng.shape</span>\n"
   ]
  },
  {
   "cell_type": "markdown",
   "metadata": {},
   "source": [
    "#### Thực hiện các yêu cầu sau và đối chiếu với kết quả cho trước:"
   ]
  },
  {
   "cell_type": "code",
   "execution_count": null,
   "metadata": {
    "colab": {},
    "colab_type": "code",
    "id": "gr8DM63nlff1"
   },
   "outputs": [],
   "source": [
    "import numpy as np"
   ]
  },
  {
   "cell_type": "code",
   "execution_count": 2,
   "metadata": {
    "colab": {},
    "colab_type": "code",
    "id": "xBDidl2SmUe2"
   },
   "outputs": [],
   "source": [
    "# Câu 1: Tạo numpy array có giá trị từ 0-9 và lưu vào biến arr\n",
    "\n",
    "# Hiển thị các phần tử có trong arr\n",
    "\n",
    "# Xem kiểu dữ liệu (type) của arr\n",
    "\n",
    "# Xem kích thước (shape) của arr\n"
   ]
  },
  {
   "cell_type": "markdown",
   "metadata": {},
   "source": [
    "<details>\n",
    "  <summary>Nhấn vào đây để xem kết quả !</summary>\n",
    "  \n",
    "  <pre>[0 1 2 3 4 5 6 7 8 9]\n",
    "&lt;class 'numpy.ndarray'&gt;\n",
    "(10,)\n",
    "</pre>\n",
    "\n",
    "</details>"
   ]
  },
  {
   "cell_type": "code",
   "execution_count": 4,
   "metadata": {
    "colab": {},
    "colab_type": "code",
    "id": "h1gyIEtolff4"
   },
   "outputs": [],
   "source": [
    "# Câu 2: Từ array arr ở câu 1 => tạo arr_odd và arr_even \n",
    "\n",
    "# Hiển thị các phần tử có trong arr_odd và arr_even\n"
   ]
  },
  {
   "cell_type": "markdown",
   "metadata": {},
   "source": [
    "<details>\n",
    "  <summary>Nhấn vào đây để xem kết quả !</summary>\n",
    "  \n",
    " <pre>Odd array:\n",
    "[1 3 5 7 9]\n",
    "Even array:\n",
    "[0 2 4 6 8]\n",
    "</pre>\n",
    "\n",
    "</details>"
   ]
  },
  {
   "cell_type": "code",
   "execution_count": 6,
   "metadata": {
    "colab": {},
    "colab_type": "code",
    "id": "OL6Y8tdxlff6"
   },
   "outputs": [],
   "source": [
    "# Câu 3: Từ array arr ở câu 1 => tạo arr_update_1 với các phần tử chẵn giữ nguyên, các phần tử lẻ thay bằng 100\n",
    "\n",
    "# Hiển thị các phần tử có trong arr_update_1\n"
   ]
  },
  {
   "cell_type": "markdown",
   "metadata": {},
   "source": [
    "<details>\n",
    "  <summary>Nhấn vào đây để xem kết quả !</summary>\n",
    "  \n",
    " <pre>[  0 100   2 100   4 100   6 100   8 100]\n",
    "</pre>\n",
    "\n",
    "</details>"
   ]
  }
 ],
 "metadata": {
  "colab": {
   "name": "Chapter3_Exercise1.ipynb",
   "provenance": []
  },
  "kernelspec": {
   "display_name": "Python 3",
   "language": "python",
   "name": "python3"
  },
  "language_info": {
   "codemirror_mode": {
    "name": "ipython",
    "version": 3
   },
   "file_extension": ".py",
   "mimetype": "text/x-python",
   "name": "python",
   "nbconvert_exporter": "python",
   "pygments_lexer": "ipython3",
   "version": "3.7.4"
  }
 },
 "nbformat": 4,
 "nbformat_minor": 1
}
