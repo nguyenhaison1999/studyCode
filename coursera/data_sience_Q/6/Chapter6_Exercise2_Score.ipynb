{
 "cells": [
  {
   "cell_type": "markdown",
   "metadata": {},
   "source": [
    "## Chapter 6 - Exercise 2: Scores"
   ]
  },
  {
   "cell_type": "markdown",
   "metadata": {},
   "source": [
    "Hãy vẽ đồ thị phân tích dữ liệu điểm thi lần 1 - preTestScore và điểm thi lần 2 - postTestScore của các thí sinh (raw_data). \n"
   ]
  },
  {
   "cell_type": "markdown",
   "metadata": {},
   "source": [
    "#### Thực hiện các yêu cầu sau, và đối chiếu với kết quả cho trước:"
   ]
  },
  {
   "cell_type": "code",
   "execution_count": 1,
   "metadata": {},
   "outputs": [],
   "source": [
    "import pandas as pd\n",
    "import matplotlib.pyplot as plt\n",
    "import numpy as np\n",
    "\n",
    "%matplotlib inline"
   ]
  },
  {
   "cell_type": "code",
   "execution_count": 2,
   "metadata": {},
   "outputs": [],
   "source": [
    "# Câu 1: Cho dữ liệu sau:\n",
    "raw_data = {'first_name': ['Jason', 'Molly', 'Tina', 'Jake', 'Amy'], \n",
    "            'last_name': ['Miller', 'Jacobson', 'Ali', 'Milner', 'Cooze'], \n",
    "            'female': [0, 1, 1, 0, 1],\n",
    "            'age': [42, 52, 36, 24, 73], \n",
    "            'preTestScore': [4, 24, 31, 2, 3],\n",
    "            'postTestScore': [25, 94, 57, 62, 70]}\n",
    "\n",
    "# Tạo DataFrame df từ dữ liệu trên. In nội dung của df.\n"
   ]
  },
  {
   "cell_type": "markdown",
   "metadata": {},
   "source": [
    "<details>\n",
    "  <summary>Nhấn vào đây để xem kết quả !</summary>\n",
    "  \n",
    "<div>\n",
    "<style scoped=\"\">\n",
    "    .dataframe tbody tr th:only-of-type {\n",
    "        vertical-align: middle;\n",
    "    }\n",
    "\n",
    "    .dataframe tbody tr th {\n",
    "        vertical-align: top;\n",
    "    }\n",
    "\n",
    "    .dataframe thead th {\n",
    "        text-align: right;\n",
    "    }\n",
    "</style>\n",
    "<table border=\"1\" class=\"dataframe\">\n",
    "  <thead>\n",
    "    <tr style=\"text-align: right;\">\n",
    "      <th></th>\n",
    "      <th>first_name</th>\n",
    "      <th>last_name</th>\n",
    "      <th>female</th>\n",
    "      <th>age</th>\n",
    "      <th>preTestScore</th>\n",
    "      <th>postTestScore</th>\n",
    "    </tr>\n",
    "  </thead>\n",
    "  <tbody>\n",
    "    <tr>\n",
    "      <th>0</th>\n",
    "      <td>Jason</td>\n",
    "      <td>Miller</td>\n",
    "      <td>0</td>\n",
    "      <td>42</td>\n",
    "      <td>4</td>\n",
    "      <td>25</td>\n",
    "    </tr>\n",
    "    <tr>\n",
    "      <th>1</th>\n",
    "      <td>Molly</td>\n",
    "      <td>Jacobson</td>\n",
    "      <td>1</td>\n",
    "      <td>52</td>\n",
    "      <td>24</td>\n",
    "      <td>94</td>\n",
    "    </tr>\n",
    "    <tr>\n",
    "      <th>2</th>\n",
    "      <td>Tina</td>\n",
    "      <td>Ali</td>\n",
    "      <td>1</td>\n",
    "      <td>36</td>\n",
    "      <td>31</td>\n",
    "      <td>57</td>\n",
    "    </tr>\n",
    "    <tr>\n",
    "      <th>3</th>\n",
    "      <td>Jake</td>\n",
    "      <td>Milner</td>\n",
    "      <td>0</td>\n",
    "      <td>24</td>\n",
    "      <td>2</td>\n",
    "      <td>62</td>\n",
    "    </tr>\n",
    "    <tr>\n",
    "      <th>4</th>\n",
    "      <td>Amy</td>\n",
    "      <td>Cooze</td>\n",
    "      <td>1</td>\n",
    "      <td>73</td>\n",
    "      <td>3</td>\n",
    "      <td>70</td>\n",
    "    </tr>\n",
    "  </tbody>\n",
    "</table>\n",
    "</div>\n",
    "\n",
    "</details>"
   ]
  },
  {
   "cell_type": "code",
   "execution_count": 3,
   "metadata": {},
   "outputs": [],
   "source": [
    "# Câu 2: Tạo một Scatterplot của preTestScore và postTestScore, với kích thước s của mỗi điểm được xác định theo age. \n",
    " \n"
   ]
  },
  {
   "cell_type": "markdown",
   "metadata": {},
   "source": [
    "<details>\n",
    "  <summary>Nhấn vào đây để xem kết quả !</summary>\n",
    "  \n",
    "<pre>Text(0, 0.5, 'preTestScore')</pre>\n",
    "\n",
    "<div class=\"output_subarea output_png\"><img src=\"data:image/png;base64,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\n",
    "\"></div>\n",
    "\n",
    "</details>"
   ]
  },
  {
   "cell_type": "code",
   "execution_count": 4,
   "metadata": {},
   "outputs": [],
   "source": [
    "# Câu 3: Tạo một Scatterplot của preTestScore và postTestScore. \n",
    "# Lần này, kích thước s sẽ gấp 4.5 lần postTestScore, màu c được xác định theo giới tính\n",
    "# Bạn nhận xét gì qua đồ thị đã vẽ \n"
   ]
  },
  {
   "cell_type": "markdown",
   "metadata": {},
   "source": [
    "<details>\n",
    "  <summary>Nhấn vào đây để xem kết quả !</summary>\n",
    "  \n",
    "<pre>Text(0, 0.5, 'preTestScore')</pre>\n",
    "\n",
    "<div class=\"output_subarea output_png\"><img src=\"data:image/png;base64,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\n",
    "\"></div>\n",
    "\n",
    "</details>"
   ]
  },
  {
   "cell_type": "code",
   "execution_count": null,
   "metadata": {},
   "outputs": [],
   "source": []
  }
 ],
 "metadata": {
  "kernelspec": {
   "display_name": "Python 3",
   "language": "python",
   "name": "python3"
  },
  "language_info": {
   "codemirror_mode": {
    "name": "ipython",
    "version": 3
   },
   "file_extension": ".py",
   "mimetype": "text/x-python",
   "name": "python",
   "nbconvert_exporter": "python",
   "pygments_lexer": "ipython3",
   "version": "3.7.4"
  }
 },
 "nbformat": 4,
 "nbformat_minor": 1
}
