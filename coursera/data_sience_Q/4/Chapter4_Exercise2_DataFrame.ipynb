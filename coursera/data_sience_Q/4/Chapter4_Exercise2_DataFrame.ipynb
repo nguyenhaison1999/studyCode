{
 "cells": [
  {
   "cell_type": "markdown",
   "metadata": {},
   "source": [
    "# Chapter 4 - Exercise 2: Hãy thực hiện những yêu cầu liên quan tới Data Frame"
   ]
  },
  {
   "cell_type": "markdown",
   "metadata": {},
   "source": [
    "\n",
    "### Thực hiện các yêu cầu sau, và đối chiếu với kết quả Output (nếu có):"
   ]
  },
  {
   "cell_type": "code",
   "execution_count": null,
   "metadata": {},
   "outputs": [],
   "source": [
    "import numpy as np\n",
    "import pandas as pd"
   ]
  },
  {
   "cell_type": "code",
   "execution_count": null,
   "metadata": {},
   "outputs": [],
   "source": [
    "# Câu 1: Tạo Data Frame từ dictionary như sau: \n",
    "# dic_1 = {'X':[78,85,96,80,86], 'Y':[84,94,89,83,86],'Z':[86,97,96,72,83]}. In data frame này\n",
    "\n",
    "\n"
   ]
  },
  {
   "cell_type": "code",
   "execution_count": null,
   "metadata": {},
   "outputs": [],
   "source": [
    "# Câu 2: Tạo Data Frame df2 từ dictionary exam_data, với index của data frame là lables đã cho,\n",
    "#        và In data frame vừa tạo và in info() của data frame\n",
    "\n",
    "exam_data  = {'name': ['Anastasia', 'Dima', 'Katherine', 'James', 'Emily', 'Michael', 'Matthew', 'Laura', 'Kevin', 'Jonas'],\n",
    "        'score': [12.5, 9, 16.5, np.nan, 9, 20, 14.5,np.nan, 8, 19],\n",
    "        'attempts': [1, 3, 2, 3, 2, 3, 1, 1, 2, 1],\n",
    "        'qualify': ['yes', 'no', 'yes', 'no', 'no', 'yes', 'yes', 'no', 'no', 'yes']}\n",
    "labels = ['a', 'b', 'c', 'd', 'e', 'f', 'g', 'h', 'i', 'j']\n",
    "\n",
    "\n"
   ]
  },
  {
   "cell_type": "code",
   "execution_count": null,
   "metadata": {},
   "outputs": [],
   "source": [
    "# In info() của data frame\n",
    "\n"
   ]
  },
  {
   "cell_type": "code",
   "execution_count": null,
   "metadata": {},
   "outputs": [],
   "source": [
    "# Câu 3: Tạo data frame mới từ data frame df2, chỉ chứa 2 cột là name và score.  \n",
    "#        In type, shape của data frame này. \n",
    "\n",
    "\n"
   ]
  },
  {
   "cell_type": "code",
   "execution_count": 1,
   "metadata": {},
   "outputs": [],
   "source": [
    "# In head của data frame này\n",
    "\n"
   ]
  },
  {
   "cell_type": "code",
   "execution_count": null,
   "metadata": {},
   "outputs": [],
   "source": [
    "# Câu 4: Tạo data frame mới từ data frame df2, chỉ chứa 2 cột là name và score, và chỉ có các dòng 1, 3, 5, 6\n",
    "# In data frame này\n",
    "\n"
   ]
  },
  {
   "cell_type": "markdown",
   "metadata": {},
   "source": [
    "<details>\n",
    "  <summary>Nhấn vào đây để xem kết quả !</summary>\n",
    "<div>\n",
    "\n",
    "<table border=\"1\" class=\"dataframe\">\n",
    "  <thead>\n",
    "    <tr style=\"text-align: right\">\n",
    "      <th></th>\n",
    "      <th>name</th>\n",
    "      <th>score</th>\n",
    "    </tr>\n",
    "  </thead>\n",
    "  <tbody>\n",
    "    <tr>\n",
    "      <th>b</th>\n",
    "      <td>Dima</td>\n",
    "      <td>9.0</td>\n",
    "    </tr>\n",
    "    <tr>\n",
    "      <th>d</th>\n",
    "      <td>James</td>\n",
    "      <td>NaN</td>\n",
    "    </tr>\n",
    "    <tr>\n",
    "      <th>f</th>\n",
    "      <td>Michael</td>\n",
    "      <td>20.0</td>\n",
    "    </tr>\n",
    "    <tr>\n",
    "      <th>g</th>\n",
    "      <td>Matthew</td>\n",
    "      <td>14.5</td>\n",
    "    </tr>\n",
    "  </tbody>\n",
    "</table>\n",
    "</div>\n",
    "\n",
    "</details>"
   ]
  },
  {
   "cell_type": "code",
   "execution_count": null,
   "metadata": {},
   "outputs": [],
   "source": [
    "# Câu 5: Từ data frame df2, In các dòng có dữ liệu score bị null\n",
    "\n"
   ]
  },
  {
   "cell_type": "markdown",
   "metadata": {},
   "source": [
    "<details>\n",
    "  <summary>Nhấn vào đây để xem kết quả !</summary>\n",
    "<div>\n",
    "\n",
    "<table border=\"1\" class=\"dataframe\">\n",
    "  <thead>\n",
    "    <tr style=\"text-align: right\">\n",
    "      <th></th>\n",
    "      <th>name</th>\n",
    "      <th>score</th>\n",
    "      <th>attempts</th>\n",
    "      <th>qualify</th>\n",
    "    </tr>\n",
    "  </thead>\n",
    "  <tbody>\n",
    "    <tr>\n",
    "      <th>d</th>\n",
    "      <td>James</td>\n",
    "      <td>NaN</td>\n",
    "      <td>3</td>\n",
    "      <td>no</td>\n",
    "    </tr>\n",
    "    <tr>\n",
    "      <th>h</th>\n",
    "      <td>Laura</td>\n",
    "      <td>NaN</td>\n",
    "      <td>1</td>\n",
    "      <td>no</td>\n",
    "    </tr>\n",
    "  </tbody>\n",
    "</table>\n",
    "</div>\n",
    "\n",
    "</details>"
   ]
  },
  {
   "cell_type": "code",
   "execution_count": null,
   "metadata": {},
   "outputs": [],
   "source": [
    "# Câu 6: Từ data frame df2, In các dòng có score > 15 và <=20\n",
    "\n"
   ]
  },
  {
   "cell_type": "markdown",
   "metadata": {},
   "source": [
    "<details>\n",
    "  <summary>Nhấn vào đây để xem kết quả !</summary>\n",
    "<div>\n",
    "\n",
    "<table border=\"1\" class=\"dataframe\">\n",
    "  <thead>\n",
    "    <tr style=\"text-align: right\">\n",
    "      <th></th>\n",
    "      <th>name</th>\n",
    "      <th>score</th>\n",
    "      <th>attempts</th>\n",
    "      <th>qualify</th>\n",
    "    </tr>\n",
    "  </thead>\n",
    "  <tbody>\n",
    "    <tr>\n",
    "      <th>c</th>\n",
    "      <td>Katherine</td>\n",
    "      <td>16.5</td>\n",
    "      <td>2</td>\n",
    "      <td>yes</td>\n",
    "    </tr>\n",
    "    <tr>\n",
    "      <th>f</th>\n",
    "      <td>Michael</td>\n",
    "      <td>20.0</td>\n",
    "      <td>3</td>\n",
    "      <td>yes</td>\n",
    "    </tr>\n",
    "    <tr>\n",
    "      <th>j</th>\n",
    "      <td>Jonas</td>\n",
    "      <td>19.0</td>\n",
    "      <td>1</td>\n",
    "      <td>yes</td>\n",
    "    </tr>\n",
    "  </tbody>\n",
    "</table>\n",
    "</div>\n",
    "\n",
    "</details>"
   ]
  },
  {
   "cell_type": "code",
   "execution_count": null,
   "metadata": {},
   "outputs": [],
   "source": [
    "# Câu 7: Cập nhật điểm ở dòng 'd' thành 18\n",
    "\n"
   ]
  },
  {
   "cell_type": "code",
   "execution_count": 2,
   "metadata": {},
   "outputs": [],
   "source": [
    "# Câu 8: Hiển thị thông tin thống kê chung của df2\n",
    "\n"
   ]
  },
  {
   "cell_type": "code",
   "execution_count": null,
   "metadata": {},
   "outputs": [],
   "source": [
    "# Câu 9: Cho biết điểm mấy có tần suất xuất hiện nhiều nhất? In những dòng này. \n",
    "\n"
   ]
  },
  {
   "cell_type": "markdown",
   "metadata": {},
   "source": [
    "<details>\n",
    "  <summary>Nhấn vào đây để xem kết quả !</summary>\n",
    "<pre>9.0\n",
    "</pre>\n",
    "    \n",
    "<div>\n",
    "\n",
    "<table border=\"1\" class=\"dataframe\">\n",
    "  <thead>\n",
    "    <tr style=\"text-align: right\">\n",
    "      <th></th>\n",
    "      <th>name</th>\n",
    "      <th>score</th>\n",
    "      <th>attempts</th>\n",
    "      <th>qualify</th>\n",
    "    </tr>\n",
    "  </thead>\n",
    "  <tbody>\n",
    "    <tr>\n",
    "      <th>b</th>\n",
    "      <td>Dima</td>\n",
    "      <td>9.0</td>\n",
    "      <td>3</td>\n",
    "      <td>no</td>\n",
    "    </tr>\n",
    "    <tr>\n",
    "      <th>e</th>\n",
    "      <td>Emily</td>\n",
    "      <td>9.0</td>\n",
    "      <td>2</td>\n",
    "      <td>no</td>\n",
    "    </tr>\n",
    "  </tbody>\n",
    "</table>\n",
    "</div>\n",
    "\n",
    "</details>"
   ]
  },
  {
   "cell_type": "code",
   "execution_count": null,
   "metadata": {},
   "outputs": [],
   "source": [
    "# Cho biết có bao nhiêu dòng thỏa điều kiện?\n",
    "\n"
   ]
  },
  {
   "cell_type": "code",
   "execution_count": null,
   "metadata": {},
   "outputs": [],
   "source": [
    "# Câu 10: Thêm dòng k có nội dung như sau: [1, 'Suresh', 'yes', 15.5] vào df2\n",
    "\n"
   ]
  },
  {
   "cell_type": "code",
   "execution_count": null,
   "metadata": {},
   "outputs": [],
   "source": [
    "# Câu 11: Thêm dòng l có nội dung như sau: ['Janny', 12.5, 2, 'yes'] vào df2. In tail của df2.\n",
    "\n"
   ]
  },
  {
   "cell_type": "code",
   "execution_count": null,
   "metadata": {},
   "outputs": [],
   "source": [
    "#  Xóa bỏ dòng l của df2. In lại tail.\n",
    "\n"
   ]
  },
  {
   "cell_type": "code",
   "execution_count": null,
   "metadata": {},
   "outputs": [],
   "source": [
    "# Câu 12: Sắp xếp df2 tăng dần theo điểm\n",
    "\n"
   ]
  },
  {
   "cell_type": "code",
   "execution_count": null,
   "metadata": {},
   "outputs": [],
   "source": [
    "# Câu 13: Thêm cột result căn cứ dữ liệu của cột 'score', nếu >=10 thì giá trị = 1, ngược lại = 0\n",
    "\n",
    "\n"
   ]
  },
  {
   "cell_type": "code",
   "execution_count": null,
   "metadata": {},
   "outputs": [],
   "source": [
    "# Câu 14: Trong df2, thay tên 'Emily' thành 'Samantha'\n",
    "\n"
   ]
  },
  {
   "cell_type": "code",
   "execution_count": null,
   "metadata": {},
   "outputs": [],
   "source": [
    "# Câu 15: Duyệt df2, in name, score, result: nếu = 1 thì in 'Pass', ngược lại thì in 'Fail'\n",
    "\n",
    "\n"
   ]
  },
  {
   "cell_type": "markdown",
   "metadata": {},
   "source": [
    "<details>\n",
    "  <summary>Nhấn vào đây để xem kết quả !</summary>\n",
    "<pre>Kevin  - Score: 8.0  - Result: Fail\n",
    "Dima  - Score: 9.0  - Result: Fail\n",
    "Samantha  - Score: 9.0  - Result: Fail\n",
    "Anastasia  - Score: 12.5  - Result: Pass\n",
    "Matthew  - Score: 14.5  - Result: Pass\n",
    "Suresh  - Score: 15.5  - Result: Pass\n",
    "Katherine  - Score: 16.5  - Result: Pass\n",
    "James  - Score: 18.0  - Result: Pass\n",
    "Jonas  - Score: 19.0  - Result: Pass\n",
    "Michael  - Score: 20.0  - Result: Pass\n",
    "Laura  - Score: nan  - Result: Fail\n",
    "</pre>\n",
    "\n",
    "</details>"
   ]
  },
  {
   "cell_type": "code",
   "execution_count": null,
   "metadata": {},
   "outputs": [],
   "source": []
  }
 ],
 "metadata": {
  "kernelspec": {
   "display_name": "Python 3",
   "language": "python",
   "name": "python3"
  },
  "language_info": {
   "codemirror_mode": {
    "name": "ipython",
    "version": 3
   },
   "file_extension": ".py",
   "mimetype": "text/x-python",
   "name": "python",
   "nbconvert_exporter": "python",
   "pygments_lexer": "ipython3",
   "version": "3.7.6"
  }
 },
 "nbformat": 4,
 "nbformat_minor": 2
}
