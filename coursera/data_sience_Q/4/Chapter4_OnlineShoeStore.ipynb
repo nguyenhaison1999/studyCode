{
 "cells": [
  {
   "cell_type": "markdown",
   "metadata": {},
   "source": [
    "## Chapter 4 - Bài làm thêm 2: Phân tích dữ liệu shop online \n",
    "\n",
    "#### Bạn sẽ phân tích dữ liệu cho một shop giày trực tuyến (ShoeFly.com). Dữ liệu được lưu vào file shoefly.csv"
   ]
  },
  {
   "cell_type": "code",
   "execution_count": 24,
   "metadata": {},
   "outputs": [],
   "source": [
    "# Import thư viện\n"
   ]
  },
  {
   "cell_type": "code",
   "execution_count": 1,
   "metadata": {},
   "outputs": [],
   "source": [
    "# Đọc file dữ liệu đã cho shoefly.csv , và lưu vào biến orders\n"
   ]
  },
  {
   "cell_type": "code",
   "execution_count": 2,
   "metadata": {},
   "outputs": [],
   "source": [
    "# Quan sát dữ liệu qua 5 dòng đầu tiên\n",
    "\n"
   ]
  },
  {
   "cell_type": "code",
   "execution_count": 3,
   "metadata": {},
   "outputs": [],
   "source": [
    "# Bộ phận tiếp thị muốn gửi email giới thiệu sản phẩm đến tất cả những người đã từng mua giày.\n",
    "# Hãy lọc tất cả các địa chỉ email của khách hàng và lưu vào biến emails, in kết quả\n",
    "\n"
   ]
  },
  {
   "cell_type": "markdown",
   "metadata": {},
   "source": [
    "<details>\n",
    "  <summary>Nhấn vào đây để xem kết quả !</summary>\n",
    "<pre>0     RebeccaLindsay57@hotmail.com\n",
    "1           EmilyJoyce25@gmail.com\n",
    "2           Joyce.Waller@gmail.com\n",
    "3      Justin.Erickson@outlook.com\n",
    "4                 AB4318@gmail.com\n",
    "5           JulieMarsh59@gmail.com\n",
    "6                 TJ5470@gmail.com\n",
    "7           Janice.Hicks@gmail.com\n",
    "8        GabrielPorter24@gmail.com\n",
    "9        FrancesPalmer50@gmail.com\n",
    "10         JessicaHale25@gmail.com\n",
    "11      LawrenceParker44@gmail.com\n",
    "12         SusanDennis58@gmail.com\n",
    "13                DO2680@gmail.com\n",
    "14       Rebecca.Charles@gmail.com\n",
    "15              JC2072@hotmail.com\n",
    "16              VS4753@outlook.com\n",
    "17          RoyTillman20@gmail.com\n",
    "18       Thomas.Roberson@gmail.com\n",
    "19         ANewton1977@outlook.com\n",
    "Name: email, dtype: object\n",
    "</pre>\n",
    "</details>"
   ]
  },
  {
   "cell_type": "code",
   "execution_count": 4,
   "metadata": {},
   "outputs": [],
   "source": [
    "# Frances Palmer nói rằng đơn đặt hàng của cô đã sai. Vậy, Frances Palmer đã đặt hàng gì?\n",
    "# Hãy lọc ra các thông tin đặt hàng của Frances Palmer và lưu vào biến frances_palmer, in kết quả\n",
    "\n"
   ]
  },
  {
   "cell_type": "markdown",
   "metadata": {},
   "source": [
    "<details>\n",
    "  <summary>Nhấn vào đây để xem kết quả !</summary>\n",
    "  \n",
    "<pre>      id first_name last_name  gender                      email shoe_type  \\\n",
    "9  62083    Frances    Palmer  female  FrancesPalmer50@gmail.com    wedges   \n",
    "\n",
    "  shoe_material shoe_color  \n",
    "9       leather      white  \n",
    "</pre>\n",
    "\n",
    "</details>"
   ]
  },
  {
   "cell_type": "code",
   "execution_count": 5,
   "metadata": {},
   "outputs": [],
   "source": [
    "# Lọc tất cả các đơn đặt hàng về loại giày: clogs, boots, và ballet flats, và lưu vào biến comfy_shoes, in kết quả\n",
    "\n"
   ]
  },
  {
   "cell_type": "markdown",
   "metadata": {},
   "source": [
    "<details>\n",
    "  <summary>Nhấn vào đây để xem kết quả !</summary>\n",
    "  \n",
    "<pre>       id first_name   last_name  gender                         email  \\\n",
    "0   54791    Rebecca     Lindsay  female  RebeccaLindsay57@hotmail.com   \n",
    "1   53450      Emily       Joyce  female        EmilyJoyce25@gmail.com   \n",
    "3   14437     Justin    Erickson    male   Justin.Erickson@outlook.com   \n",
    "4   79357     Andrew       Banks    male              AB4318@gmail.com   \n",
    "6   20487     Thomas      Jensen    male              TJ5470@gmail.com   \n",
    "7   76971     Janice       Hicks  female        Janice.Hicks@gmail.com   \n",
    "8   21586    Gabriel      Porter    male     GabrielPorter24@gmail.com   \n",
    "10  91629    Jessica        Hale  female       JessicaHale25@gmail.com   \n",
    "12  45832      Susan      Dennis  female       SusanDennis58@gmail.com   \n",
    "14  73431    Rebecca     Charles  female     Rebecca.Charles@gmail.com   \n",
    "16  39888    Vincent  Stephenson    male            VS4753@outlook.com   \n",
    "17  35961        Roy     Tillman    male        RoyTillman20@gmail.com   \n",
    "\n",
    "       shoe_type shoe_material shoe_color  \n",
    "0          clogs  faux-leather      black  \n",
    "1   ballet flats  faux-leather       navy  \n",
    "3          clogs  faux-leather        red  \n",
    "4          boots       leather      brown  \n",
    "6          clogs        fabric       navy  \n",
    "7          clogs  faux-leather       navy  \n",
    "8          clogs       leather      brown  \n",
    "10         clogs       leather        red  \n",
    "12  ballet flats        fabric      white  \n",
    "14         boots  faux-leather      white  \n",
    "16         boots       leather      black  \n",
    "17         boots       leather      white  \n",
    "</pre>\n",
    "\n",
    "</details>"
   ]
  },
  {
   "cell_type": "code",
   "execution_count": 6,
   "metadata": {},
   "outputs": [],
   "source": [
    "# Do nhiều khách hàng không muốn mua loại giày làm từ vật liệu từ da động vật (leather) \n",
    "# Hãy thêm một cột mới gọi là shoe_source:\n",
    "  # - cột có giá trị là vegan nếu vật liệu không là da động vật\n",
    "  # - cột có giá trị là animal nếu vật liệu là leather.\n",
    "# In kết quả\n",
    "\n"
   ]
  },
  {
   "cell_type": "markdown",
   "metadata": {},
   "source": [
    "<details>\n",
    "  <summary>Nhấn vào đây để xem kết quả !</summary>\n",
    "  \n",
    "<pre>      id first_name last_name  gender                         email  \\\n",
    "0  54791    Rebecca   Lindsay  female  RebeccaLindsay57@hotmail.com   \n",
    "1  53450      Emily     Joyce  female        EmilyJoyce25@gmail.com   \n",
    "2  91987      Joyce    Waller  female        Joyce.Waller@gmail.com   \n",
    "3  14437     Justin  Erickson    male   Justin.Erickson@outlook.com   \n",
    "4  79357     Andrew     Banks    male              AB4318@gmail.com   \n",
    "\n",
    "      shoe_type shoe_material shoe_color shoe_source  \n",
    "0         clogs  faux-leather      black       vegan  \n",
    "1  ballet flats  faux-leather       navy       vegan  \n",
    "2       sandles        fabric      black       vegan  \n",
    "3         clogs  faux-leather        red       vegan  \n",
    "4         boots       leather      brown      animal  \n",
    "</pre>\n",
    "\n",
    "</details>"
   ]
  },
  {
   "cell_type": "code",
   "execution_count": 7,
   "metadata": {},
   "outputs": [],
   "source": [
    "# Bộ phận marketting muốn gửi email đến từng khách hàng.\n",
    "# Hãy sử dụng cột last_name và gender để tạo ra một cột có tên là salutation, có chứa lời chào \n",
    "# Dear Mr. <last_name> dành cho nam và Dear Ms. <last_name> dành cho nữ.\n",
    "# In kết quả\n",
    "\n"
   ]
  },
  {
   "cell_type": "markdown",
   "metadata": {},
   "source": [
    "<details>\n",
    "  <summary>Nhấn vào đây để xem kết quả !</summary>\n",
    "  \n",
    "<pre>      id first_name last_name  gender                         email  \\\n",
    "0  54791    Rebecca   Lindsay  female  RebeccaLindsay57@hotmail.com   \n",
    "1  53450      Emily     Joyce  female        EmilyJoyce25@gmail.com   \n",
    "2  91987      Joyce    Waller  female        Joyce.Waller@gmail.com   \n",
    "3  14437     Justin  Erickson    male   Justin.Erickson@outlook.com   \n",
    "4  79357     Andrew     Banks    male              AB4318@gmail.com   \n",
    "\n",
    "      shoe_type shoe_material shoe_color shoe_source         salutation  \n",
    "0         clogs  faux-leather      black       vegan   Dear Ms. Lindsay  \n",
    "1  ballet flats  faux-leather       navy       vegan     Dear Ms. Joyce  \n",
    "2       sandles        fabric      black       vegan    Dear Ms. Waller  \n",
    "3         clogs  faux-leather        red       vegan  Dear Mr. Erickson  \n",
    "4         boots       leather      brown      animal     Dear Mr. Banks  \n",
    "</pre>\n",
    "\n",
    "</details>"
   ]
  },
  {
   "cell_type": "code",
   "execution_count": null,
   "metadata": {},
   "outputs": [],
   "source": []
  }
 ],
 "metadata": {
  "kernelspec": {
   "display_name": "Python 3",
   "language": "python",
   "name": "python3"
  },
  "language_info": {
   "codemirror_mode": {
    "name": "ipython",
    "version": 3
   },
   "file_extension": ".py",
   "mimetype": "text/x-python",
   "name": "python",
   "nbconvert_exporter": "python",
   "pygments_lexer": "ipython3",
   "version": "3.6.8"
  }
 },
 "nbformat": 4,
 "nbformat_minor": 2
}
