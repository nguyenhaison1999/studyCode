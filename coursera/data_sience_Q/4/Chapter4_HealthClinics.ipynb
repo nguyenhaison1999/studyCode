{
 "cells": [
  {
   "cell_type": "markdown",
   "metadata": {},
   "source": [
    "## Chapter 4 - Bài làm thêm 1: Phân tích dữ liệu phòng khám \n",
    "\n",
    "#### Dữ liệu DataFrame _df_ được thu thập ở 4 phòng khám sức khỏe thuộc cùng một tổ chức điều hành. Mỗi dòng là dữ liệu trong tháng của 4 phòng khám, từ tháng 1 đến tháng 6, cho biết số lượng cuộc hẹn được thực hiện tại mỗi phòng khám tương ứng."
   ]
  },
  {
   "cell_type": "code",
   "execution_count": 1,
   "metadata": {},
   "outputs": [],
   "source": [
    "# import thư viện pandas\n",
    "import pandas as pd"
   ]
  },
  {
   "cell_type": "code",
   "execution_count": 2,
   "metadata": {},
   "outputs": [],
   "source": [
    "# Dữ liệu DataFrame df\n",
    "df = pd.DataFrame([\n",
    "  ['January', 100, 100, 23, 100],\n",
    "  ['February', 51, 45, 145, 45],\n",
    "  ['March', 81, 96, 65, 96],\n",
    "  ['April', 80, 80, 54, 180],\n",
    "  ['May', 51, 54, 54, 154],\n",
    "  ['June', 112, 109, 79, 129]],\n",
    "  columns=['month', 'clinic_east',\n",
    "           'clinic_north', 'clinic_south',\n",
    "           'clinic_west'])"
   ]
  },
  {
   "cell_type": "code",
   "execution_count": 1,
   "metadata": {},
   "outputs": [],
   "source": [
    "# Tạo biến clinic_north chỉ chứa dữ liệu của phòng khám khu vực phía bắc trong 6 tháng. In kết quả\n",
    "\n"
   ]
  },
  {
   "cell_type": "markdown",
   "metadata": {},
   "source": [
    "<details>\n",
    "  <summary>Nhấn vào đây để xem kết quả !</summary>\n",
    "  \n",
    "  <pre>0    100\n",
    "1     45\n",
    "2     96\n",
    "3     80\n",
    "4     54\n",
    "5    109\n",
    "Name: clinic_north, dtype: int64\n",
    "</pre>\n",
    "\n",
    "</details>"
   ]
  },
  {
   "cell_type": "markdown",
   "metadata": {},
   "source": []
  },
  {
   "cell_type": "code",
   "execution_count": 3,
   "metadata": {},
   "outputs": [],
   "source": [
    "# Bây giờ, bạn muốn so sánh các bệnh nhân đến các phòng khám phía bắc và phía nam.\n",
    "# Tạo biến clinic_north_south chứa dữ liệu của phòng khám khu vực phía bắc và phía nam \n",
    "# và cột 'north vs south' là hiệu giữa số lượng cuộc hẹn clinic_north - clinic_south\n",
    "\n",
    "\n"
   ]
  },
  {
   "cell_type": "code",
   "execution_count": 4,
   "metadata": {},
   "outputs": [],
   "source": [
    "# In type của clinic_north_south, xem kết quả và nhận xét\n",
    "\n"
   ]
  },
  {
   "cell_type": "code",
   "execution_count": 5,
   "metadata": {},
   "outputs": [],
   "source": [
    "# Bạn dự định sẽ đến kiểm tra sức khỏe vào tháng 3, nên muốn biết tháng 3 có đông người đến khám không\n",
    "# Tạo một Series dữ liệu tháng 3 của tất cả 4 phòng khám, lưu vào biến march. In hết quả.\n",
    "\n"
   ]
  },
  {
   "cell_type": "markdown",
   "metadata": {},
   "source": [
    "<details>\n",
    "  <summary>Nhấn vào đây để xem kết quả !</summary>\n",
    "  \n",
    "<pre>month           March\n",
    "clinic_east        81\n",
    "clinic_north       96\n",
    "clinic_south       65\n",
    "clinic_west        96\n",
    "Name: 2, dtype: object\n",
    "</pre>\n",
    "\n",
    "</details>"
   ]
  },
  {
   "cell_type": "code",
   "execution_count": 6,
   "metadata": {},
   "outputs": [],
   "source": [
    "# Thường mọi người hay nghĩ rằng sẽ có nhiều bệnh nhân đến phòng khám vào tháng 4-5-6\n",
    "# Hãy tạo một DataFrame chứa dữ liệu 4 phòng khám từ tháng 4 đến tháng 6, lưu vào biến april_may_june.\n",
    "# In kết quả\n",
    "\n"
   ]
  },
  {
   "cell_type": "markdown",
   "metadata": {},
   "source": [
    "<details>\n",
    "  <summary>Nhấn vào đây để xem kết quả !</summary>\n",
    "  \n",
    "<pre>   month  clinic_east  clinic_north  clinic_south  clinic_west\n",
    "3  April           80            80            54          180\n",
    "4    May           51            54            54          154\n",
    "5   June          112           109            79          129\n",
    "</pre>\n",
    "\n",
    "</details>"
   ]
  },
  {
   "cell_type": "code",
   "execution_count": 7,
   "metadata": {},
   "outputs": [],
   "source": [
    "# Bạn sắp đi đến phòng khám vào tháng một năm nay và bạn muốn biết có bao nhiêu người đến khám vào tháng 1 năm ngoái.\n",
    "# (lưu vào biến dataframe có tên january)\n",
    "# In kết quả\n",
    "\n"
   ]
  },
  {
   "cell_type": "code",
   "execution_count": 8,
   "metadata": {},
   "outputs": [],
   "source": [
    "# Bạn muốn xem số lượng khám bệnh thay đổi như thế nào giữa tháng ba và tháng tư.\n",
    "# Tạo biến march_april, chứa dữ liệu phòng khám từ tháng 3 và tháng 4\n",
    "# In kết quả\n",
    "\n"
   ]
  },
  {
   "cell_type": "markdown",
   "metadata": {},
   "source": [
    "<details>\n",
    "  <summary>Nhấn vào đây để xem kết quả !</summary>\n",
    "  \n",
    "<pre>   month  clinic_east  clinic_north  clinic_south  clinic_west\n",
    "2  March           81            96            65           96\n",
    "3  April           80            80            54          180\n",
    "</pre>\n",
    "\n",
    "</details>"
   ]
  },
  {
   "cell_type": "markdown",
   "metadata": {},
   "source": []
  },
  {
   "cell_type": "code",
   "execution_count": 9,
   "metadata": {},
   "outputs": [],
   "source": [
    "# Có người nghĩ rằng sẽ có rất nhiều lượt khám tại phòng khám vào cuối mùa đông (từ tháng 1, tháng 2 và tháng 3)\n",
    "# Tạo biến january_february_march, chứa dữ liệu 4 phòng khám từ tháng 1, tháng 2 và tháng 3\n",
    "# In kết quả\n",
    "\n"
   ]
  },
  {
   "cell_type": "markdown",
   "metadata": {},
   "source": [
    "<details>\n",
    "  <summary>Nhấn vào đây để xem kết quả !</summary>\n",
    "  \n",
    "<pre>      month  clinic_east  clinic_north  clinic_south  clinic_west\n",
    "0   January          100           100            23          100\n",
    "1  February           51            45           145           45\n",
    "2     March           81            96            65           96\n",
    "</pre>\n",
    "\n",
    "</details>"
   ]
  }
 ],
 "metadata": {
  "kernelspec": {
   "display_name": "Python 3",
   "language": "python",
   "name": "python3"
  },
  "language_info": {
   "codemirror_mode": {
    "name": "ipython",
    "version": 3
   },
   "file_extension": ".py",
   "mimetype": "text/x-python",
   "name": "python",
   "nbconvert_exporter": "python",
   "pygments_lexer": "ipython3",
   "version": "3.7.6"
  }
 },
 "nbformat": 4,
 "nbformat_minor": 2
}
