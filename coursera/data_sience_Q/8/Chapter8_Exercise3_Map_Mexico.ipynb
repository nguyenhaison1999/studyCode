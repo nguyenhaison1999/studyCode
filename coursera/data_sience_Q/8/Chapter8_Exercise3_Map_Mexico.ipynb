{
 "cells": [
  {
   "cell_type": "markdown",
   "metadata": {
    "button": false,
    "new_sheet": false,
    "run_control": {
     "read_only": false
    }
   },
   "source": [
    "# Chapter 8 - exercise 2"
   ]
  },
  {
   "cell_type": "markdown",
   "metadata": {
    "button": false,
    "new_sheet": false,
    "run_control": {
     "read_only": false
    }
   },
   "source": [
    "## Map: Mexico\n",
    "1. Tạo biểu đồ có center là Mexico (location= [23.6345, -102.5528]) với zoom level là 4.\n",
    "2. Tạo Mapbox Bright Map với center là Mexico  with zoom level 6.3. "
   ]
  },
  {
   "cell_type": "markdown",
   "metadata": {},
   "source": [
    "## Map với Marker\n",
    "### San Francisco Police Department Incidents năm 2016 - được cung cấp từ cổng thông tin dữ liệu công cộng San Francisco. Các sự cố bắt nguồn từ hệ thống báo cáo sự cố tội phạm của Sở cảnh sát San Francisco (SFPD). Được cập nhật hàng ngày, hiển thị dữ liệu cho cả năm 2016. Địa chỉ và vị trí đã được ẩn danh bằng cách di chuyển đến giữa khối (mid-block) hoặc đến một giao lộ (intersection)\n",
    "1. Đọc dữ liệu Police_Department_Incidents_-_Previous_Year__2016_.csv và gán vào df_incidents, tìm hiểu về dữ liệu với: info, head, shape\n",
    "2. Làm sạch dữ liệu: có đến 150.500 tội phạm, diễn ra vào năm 2016. Tạo bộ dữ liệu mới chỉ lấy 100 tội phạm đầu tiên trong bộ dữ liệu này. => in shape\n",
    "3. Tạo biểu đồ có center là San Francisco (location= [37.77, -122.42]) với zoom level là 12.\n",
    "5. Đưa 100 điểm tội phạm lên bản đồ (với marker)\n",
    "6. Thêm pop-up text sẽ được hiển thị thông tin Category khi người dùng di chuyển chuột qua chuột qua marker.\n",
    "7. Để cho bản đồ khỏi rối, bỏ đi các location marker và chỉ thêm text vào từng circle marker\n",
    "8. Nhóm các markers vào các cluster. Mỗi cluster sẽ hiển thị số lượng các tội phạm trong mỗi neighborhood. Những cụm này có thể được coi là từng nhóm của San Francisco để phân tích riêng sau này. (Hãy sử dụng MarkerCluster object và thêm tất cả các data point trong dataframe vào object này."
   ]
  },
  {
   "cell_type": "code",
   "execution_count": 1,
   "metadata": {},
   "outputs": [],
   "source": [
    "import folium\n",
    "import pandas as pd\n",
    "import numpy as np\n",
    "import matplotlib.pyplot as plt"
   ]
  },
  {
   "cell_type": "markdown",
   "metadata": {},
   "source": [
    "## Map"
   ]
  },
  {
   "cell_type": "code",
   "execution_count": 1,
   "metadata": {
    "button": false,
    "new_sheet": false,
    "run_control": {
     "read_only": false
    }
   },
   "outputs": [],
   "source": [
    "# 1. Tạo biểu đồ có center là Mexico (location= [23.6345, -102.5528]) với zoom level là 4.\n",
    "\n",
    "\n",
    "\n",
    "\n"
   ]
  },
  {
   "cell_type": "code",
   "execution_count": 2,
   "metadata": {
    "button": false,
    "new_sheet": false,
    "run_control": {
     "read_only": false
    }
   },
   "outputs": [],
   "source": [
    "# 2. Tạo Mapbox Bright Map với center là Mexico with zoom level 6.3.\n",
    "\n",
    "\n",
    "\n",
    "\n"
   ]
  },
  {
   "cell_type": "markdown",
   "metadata": {
    "button": false,
    "new_sheet": false,
    "run_control": {
     "read_only": false
    }
   },
   "source": [
    "# Map với Marker"
   ]
  },
  {
   "cell_type": "code",
   "execution_count": 3,
   "metadata": {
    "button": false,
    "new_sheet": false,
    "run_control": {
     "read_only": false
    }
   },
   "outputs": [],
   "source": [
    "# 1. Đọc dữ liệu Police_Department_Incidents_-Previous_Year__2016.csv và gán vào df_incidents, tìm hiểu về dữ liệu với: info, head, shape\n",
    "\n",
    "\n",
    "\n"
   ]
  },
  {
   "cell_type": "markdown",
   "metadata": {
    "button": false,
    "new_sheet": false,
    "run_control": {
     "read_only": false
    }
   },
   "source": [
    "So each row consists of 13 features:\n",
    "> 1. **IncidntNum**: Incident Number\n",
    "> 2. **Category**: Category of crime or incident\n",
    "> 3. **Descript**: Description of the crime or incident\n",
    "> 4. **DayOfWeek**: The day of week on which the incident occurred\n",
    "> 5. **Date**: The Date on which the incident occurred\n",
    "> 6. **Time**: The time of day on which the incident occurred\n",
    "> 7. **PdDistrict**: The police department district\n",
    "> 8. **Resolution**: The resolution of the crime in terms whether the perpetrator was arrested or not\n",
    "> 9. **Address**: The closest address to where the incident took place\n",
    "> 10. **X**: The longitude value of the crime location \n",
    "> 11. **Y**: The latitude value of the crime location\n",
    "> 12. **Location**: A tuple of the latitude and the longitude values\n",
    "> 13. **PdId**: The police department ID"
   ]
  },
  {
   "cell_type": "code",
   "execution_count": 4,
   "metadata": {
    "button": false,
    "new_sheet": false,
    "run_control": {
     "read_only": false
    }
   },
   "outputs": [],
   "source": [
    "# 2. Làm sạch dữ liệu: có đến 150.500 tội phạm, diễn ra vào năm 2016. \n",
    "# Tạo bộ dữ liệu mới chỉ lấy 100 tội phạm đầu tiên trong bộ dữ liệu này. => in shape\n",
    "\n",
    "\n",
    "\n"
   ]
  },
  {
   "cell_type": "code",
   "execution_count": 5,
   "metadata": {
    "button": false,
    "new_sheet": false,
    "run_control": {
     "read_only": false
    }
   },
   "outputs": [],
   "source": [
    "# 3. Tạo biểu đồ có center là San Francisco (location= [37.77, -122.42]) với zoom level là 12.\n",
    "\n",
    "\n",
    "\n"
   ]
  },
  {
   "cell_type": "code",
   "execution_count": 6,
   "metadata": {
    "button": false,
    "new_sheet": false,
    "run_control": {
     "read_only": false
    }
   },
   "outputs": [],
   "source": [
    "# 4. Đưa 100 điểm tội phạm lên bản đồ (với marker)\n",
    "\n",
    "\n",
    "\n"
   ]
  },
  {
   "cell_type": "code",
   "execution_count": 7,
   "metadata": {
    "button": false,
    "new_sheet": false,
    "run_control": {
     "read_only": false
    },
    "scrolled": false
   },
   "outputs": [],
   "source": [
    "# 5. Thêm pop-up text sẽ được hiển thị thông tin Category khi người dùng di chuyển chuột qua chuột qua marker.\n",
    "\n",
    "\n",
    "\n",
    "\n"
   ]
  },
  {
   "cell_type": "code",
   "execution_count": 8,
   "metadata": {
    "button": false,
    "new_sheet": false,
    "run_control": {
     "read_only": false
    },
    "scrolled": false
   },
   "outputs": [],
   "source": [
    "# 6. Để cho bản đồ khỏi rối, bỏ đi các location marker và chỉ thêm text vào từng circle marker\n",
    "\n",
    "\n",
    "\n",
    "\n"
   ]
  },
  {
   "cell_type": "code",
   "execution_count": 10,
   "metadata": {
    "button": false,
    "new_sheet": false,
    "run_control": {
     "read_only": false
    }
   },
   "outputs": [],
   "source": [
    "# 7. \n",
    "# Nhóm các markers vào các cluster. Mỗi cluster sẽ hiển thị số lượng các tội phạm trong mỗi neighborhood. \n",
    "# Những cụm này có thể được coi là từng nhóm của San Francisco để phân tích riêng sau này. \n",
    "# (Hãy sử dụng MarkerCluster object và thêm tất cả các data point trong dataframe vào object này.\n",
    "\n",
    "\n",
    "\n",
    "\n"
   ]
  },
  {
   "cell_type": "code",
   "execution_count": null,
   "metadata": {},
   "outputs": [],
   "source": []
  }
 ],
 "metadata": {
  "kernelspec": {
   "display_name": "Python 3",
   "language": "python",
   "name": "python3"
  },
  "language_info": {
   "codemirror_mode": {
    "name": "ipython",
    "version": 3
   },
   "file_extension": ".py",
   "mimetype": "text/x-python",
   "name": "python",
   "nbconvert_exporter": "python",
   "pygments_lexer": "ipython3",
   "version": "3.7.4"
  },
  "widgets": {
   "state": {},
   "version": "1.1.2"
  }
 },
 "nbformat": 4,
 "nbformat_minor": 2
}
